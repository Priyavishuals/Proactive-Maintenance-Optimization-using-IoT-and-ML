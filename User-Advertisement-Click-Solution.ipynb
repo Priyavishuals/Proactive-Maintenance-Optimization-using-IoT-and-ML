{
 "cells": [
  {
   "cell_type": "markdown",
   "metadata": {},
   "source": [
    "# Predicting User Advertisement Click"
   ]
  },
  {
   "cell_type": "markdown",
   "metadata": {},
   "source": [
    "### Import pandas library and the dataset"
   ]
  },
  {
   "cell_type": "code",
   "execution_count": 1,
   "metadata": {},
   "outputs": [],
   "source": [
    "import pandas as pd"
   ]
  },
  {
   "cell_type": "code",
   "execution_count": 2,
   "metadata": {
    "scrolled": false
   },
   "outputs": [
    {
     "data": {
      "text/html": [
       "<div>\n",
       "<style scoped>\n",
       "    .dataframe tbody tr th:only-of-type {\n",
       "        vertical-align: middle;\n",
       "    }\n",
       "\n",
       "    .dataframe tbody tr th {\n",
       "        vertical-align: top;\n",
       "    }\n",
       "\n",
       "    .dataframe thead th {\n",
       "        text-align: right;\n",
       "    }\n",
       "</style>\n",
       "<table border=\"1\" class=\"dataframe\">\n",
       "  <thead>\n",
       "    <tr style=\"text-align: right;\">\n",
       "      <th></th>\n",
       "      <th>Daily Time Spent on Site</th>\n",
       "      <th>Age</th>\n",
       "      <th>Area Income</th>\n",
       "      <th>Daily Internet Usage</th>\n",
       "      <th>Ad Topic Line</th>\n",
       "      <th>City</th>\n",
       "      <th>Male</th>\n",
       "      <th>Country</th>\n",
       "      <th>Timestamp</th>\n",
       "      <th>Clicked on Ad</th>\n",
       "    </tr>\n",
       "  </thead>\n",
       "  <tbody>\n",
       "    <tr>\n",
       "      <th>0</th>\n",
       "      <td>68.95</td>\n",
       "      <td>35</td>\n",
       "      <td>61833.90</td>\n",
       "      <td>256.09</td>\n",
       "      <td>Cloned 5thgeneration orchestration</td>\n",
       "      <td>Wrightburgh</td>\n",
       "      <td>0</td>\n",
       "      <td>Tunisia</td>\n",
       "      <td>27/03/2016 0:53</td>\n",
       "      <td>0</td>\n",
       "    </tr>\n",
       "    <tr>\n",
       "      <th>1</th>\n",
       "      <td>80.23</td>\n",
       "      <td>31</td>\n",
       "      <td>68441.85</td>\n",
       "      <td>193.77</td>\n",
       "      <td>Monitored national standardization</td>\n",
       "      <td>West Jodi</td>\n",
       "      <td>1</td>\n",
       "      <td>Nauru</td>\n",
       "      <td>04/04/2016 1:39</td>\n",
       "      <td>0</td>\n",
       "    </tr>\n",
       "    <tr>\n",
       "      <th>2</th>\n",
       "      <td>69.47</td>\n",
       "      <td>26</td>\n",
       "      <td>59785.94</td>\n",
       "      <td>236.50</td>\n",
       "      <td>Organic bottom-line service-desk</td>\n",
       "      <td>Davidton</td>\n",
       "      <td>0</td>\n",
       "      <td>San Marino</td>\n",
       "      <td>13/03/2016 20:35</td>\n",
       "      <td>0</td>\n",
       "    </tr>\n",
       "    <tr>\n",
       "      <th>3</th>\n",
       "      <td>74.15</td>\n",
       "      <td>29</td>\n",
       "      <td>54806.18</td>\n",
       "      <td>245.89</td>\n",
       "      <td>Triple-buffered reciprocal time-frame</td>\n",
       "      <td>West Terrifurt</td>\n",
       "      <td>1</td>\n",
       "      <td>Italy</td>\n",
       "      <td>10/01/2016 2:31</td>\n",
       "      <td>0</td>\n",
       "    </tr>\n",
       "    <tr>\n",
       "      <th>4</th>\n",
       "      <td>68.37</td>\n",
       "      <td>35</td>\n",
       "      <td>73889.99</td>\n",
       "      <td>225.58</td>\n",
       "      <td>Robust logistical utilization</td>\n",
       "      <td>South Manuel</td>\n",
       "      <td>0</td>\n",
       "      <td>Iceland</td>\n",
       "      <td>03/06/2016 3:36</td>\n",
       "      <td>0</td>\n",
       "    </tr>\n",
       "    <tr>\n",
       "      <th>...</th>\n",
       "      <td>...</td>\n",
       "      <td>...</td>\n",
       "      <td>...</td>\n",
       "      <td>...</td>\n",
       "      <td>...</td>\n",
       "      <td>...</td>\n",
       "      <td>...</td>\n",
       "      <td>...</td>\n",
       "      <td>...</td>\n",
       "      <td>...</td>\n",
       "    </tr>\n",
       "    <tr>\n",
       "      <th>895</th>\n",
       "      <td>80.99</td>\n",
       "      <td>26</td>\n",
       "      <td>35521.88</td>\n",
       "      <td>207.53</td>\n",
       "      <td>Centralized clear-thinking Graphic Interface</td>\n",
       "      <td>Melissastad</td>\n",
       "      <td>1</td>\n",
       "      <td>Belarus</td>\n",
       "      <td>10/06/2016 3:56</td>\n",
       "      <td>0</td>\n",
       "    </tr>\n",
       "    <tr>\n",
       "      <th>896</th>\n",
       "      <td>78.84</td>\n",
       "      <td>32</td>\n",
       "      <td>62430.55</td>\n",
       "      <td>235.29</td>\n",
       "      <td>Optimized 5thgeneration moratorium</td>\n",
       "      <td>Gonzalezburgh</td>\n",
       "      <td>1</td>\n",
       "      <td>Taiwan</td>\n",
       "      <td>09/04/2016 9:26</td>\n",
       "      <td>0</td>\n",
       "    </tr>\n",
       "    <tr>\n",
       "      <th>897</th>\n",
       "      <td>77.36</td>\n",
       "      <td>41</td>\n",
       "      <td>49597.08</td>\n",
       "      <td>115.79</td>\n",
       "      <td>Fully-configurable asynchronous firmware</td>\n",
       "      <td>Port Jennifer</td>\n",
       "      <td>0</td>\n",
       "      <td>El Salvador</td>\n",
       "      <td>26/02/2016 6:00</td>\n",
       "      <td>1</td>\n",
       "    </tr>\n",
       "    <tr>\n",
       "      <th>898</th>\n",
       "      <td>55.46</td>\n",
       "      <td>37</td>\n",
       "      <td>42078.89</td>\n",
       "      <td>108.10</td>\n",
       "      <td>Exclusive systematic algorithm</td>\n",
       "      <td>Chrismouth</td>\n",
       "      <td>0</td>\n",
       "      <td>Taiwan</td>\n",
       "      <td>21/02/2016 23:07</td>\n",
       "      <td>1</td>\n",
       "    </tr>\n",
       "    <tr>\n",
       "      <th>899</th>\n",
       "      <td>35.66</td>\n",
       "      <td>45</td>\n",
       "      <td>46197.59</td>\n",
       "      <td>151.72</td>\n",
       "      <td>Exclusive cohesive intranet</td>\n",
       "      <td>Port Beth</td>\n",
       "      <td>0</td>\n",
       "      <td>Peru</td>\n",
       "      <td>29/04/2016 14:08</td>\n",
       "      <td>1</td>\n",
       "    </tr>\n",
       "  </tbody>\n",
       "</table>\n",
       "<p>900 rows × 10 columns</p>\n",
       "</div>"
      ],
      "text/plain": [
       "     Daily Time Spent on Site  Age  Area Income  Daily Internet Usage  \\\n",
       "0                       68.95   35     61833.90                256.09   \n",
       "1                       80.23   31     68441.85                193.77   \n",
       "2                       69.47   26     59785.94                236.50   \n",
       "3                       74.15   29     54806.18                245.89   \n",
       "4                       68.37   35     73889.99                225.58   \n",
       "..                        ...  ...          ...                   ...   \n",
       "895                     80.99   26     35521.88                207.53   \n",
       "896                     78.84   32     62430.55                235.29   \n",
       "897                     77.36   41     49597.08                115.79   \n",
       "898                     55.46   37     42078.89                108.10   \n",
       "899                     35.66   45     46197.59                151.72   \n",
       "\n",
       "                                    Ad Topic Line            City  Male  \\\n",
       "0              Cloned 5thgeneration orchestration     Wrightburgh     0   \n",
       "1              Monitored national standardization       West Jodi     1   \n",
       "2                Organic bottom-line service-desk        Davidton     0   \n",
       "3           Triple-buffered reciprocal time-frame  West Terrifurt     1   \n",
       "4                   Robust logistical utilization    South Manuel     0   \n",
       "..                                            ...             ...   ...   \n",
       "895  Centralized clear-thinking Graphic Interface     Melissastad     1   \n",
       "896            Optimized 5thgeneration moratorium   Gonzalezburgh     1   \n",
       "897      Fully-configurable asynchronous firmware   Port Jennifer     0   \n",
       "898                Exclusive systematic algorithm      Chrismouth     0   \n",
       "899                   Exclusive cohesive intranet       Port Beth     0   \n",
       "\n",
       "         Country         Timestamp  Clicked on Ad  \n",
       "0        Tunisia   27/03/2016 0:53              0  \n",
       "1          Nauru   04/04/2016 1:39              0  \n",
       "2     San Marino  13/03/2016 20:35              0  \n",
       "3          Italy   10/01/2016 2:31              0  \n",
       "4        Iceland   03/06/2016 3:36              0  \n",
       "..           ...               ...            ...  \n",
       "895      Belarus   10/06/2016 3:56              0  \n",
       "896       Taiwan   09/04/2016 9:26              0  \n",
       "897  El Salvador   26/02/2016 6:00              1  \n",
       "898       Taiwan  21/02/2016 23:07              1  \n",
       "899         Peru  29/04/2016 14:08              1  \n",
       "\n",
       "[900 rows x 10 columns]"
      ]
     },
     "execution_count": 2,
     "metadata": {},
     "output_type": "execute_result"
    }
   ],
   "source": [
    "data = pd.read_csv('advertising.csv')\n",
    "data"
   ]
  },
  {
   "cell_type": "markdown",
   "metadata": {},
   "source": [
    "## View the data types and details of the columns"
   ]
  },
  {
   "cell_type": "markdown",
   "metadata": {},
   "source": [
    "#### 1. Displaying details regarding continuous variables"
   ]
  },
  {
   "cell_type": "code",
   "execution_count": 3,
   "metadata": {},
   "outputs": [
    {
     "data": {
      "text/plain": [
       "Daily Time Spent on Site    float64\n",
       "Age                           int64\n",
       "Area Income                 float64\n",
       "Daily Internet Usage        float64\n",
       "Ad Topic Line                object\n",
       "City                         object\n",
       "Male                          int64\n",
       "Country                      object\n",
       "Timestamp                    object\n",
       "Clicked on Ad                 int64\n",
       "dtype: object"
      ]
     },
     "execution_count": 3,
     "metadata": {},
     "output_type": "execute_result"
    }
   ],
   "source": [
    "## displaying the datatypes of the columns\n",
    "data.dtypes"
   ]
  },
  {
   "cell_type": "markdown",
   "metadata": {},
   "source": [
    "# displaying the details regarding all the numerical columns"
   ]
  },
  {
   "cell_type": "code",
   "execution_count": 4,
   "metadata": {
    "scrolled": true
   },
   "outputs": [
    {
     "data": {
      "text/html": [
       "<div>\n",
       "<style scoped>\n",
       "    .dataframe tbody tr th:only-of-type {\n",
       "        vertical-align: middle;\n",
       "    }\n",
       "\n",
       "    .dataframe tbody tr th {\n",
       "        vertical-align: top;\n",
       "    }\n",
       "\n",
       "    .dataframe thead th {\n",
       "        text-align: right;\n",
       "    }\n",
       "</style>\n",
       "<table border=\"1\" class=\"dataframe\">\n",
       "  <thead>\n",
       "    <tr style=\"text-align: right;\">\n",
       "      <th></th>\n",
       "      <th>Daily Time Spent on Site</th>\n",
       "      <th>Age</th>\n",
       "      <th>Area Income</th>\n",
       "      <th>Daily Internet Usage</th>\n",
       "      <th>Male</th>\n",
       "      <th>Clicked on Ad</th>\n",
       "    </tr>\n",
       "  </thead>\n",
       "  <tbody>\n",
       "    <tr>\n",
       "      <th>count</th>\n",
       "      <td>900.000000</td>\n",
       "      <td>900.000000</td>\n",
       "      <td>900.000000</td>\n",
       "      <td>900.000000</td>\n",
       "      <td>900.000000</td>\n",
       "      <td>900.000000</td>\n",
       "    </tr>\n",
       "    <tr>\n",
       "      <th>mean</th>\n",
       "      <td>65.425800</td>\n",
       "      <td>35.903333</td>\n",
       "      <td>55315.072767</td>\n",
       "      <td>180.702344</td>\n",
       "      <td>0.483333</td>\n",
       "      <td>0.487778</td>\n",
       "    </tr>\n",
       "    <tr>\n",
       "      <th>std</th>\n",
       "      <td>15.712563</td>\n",
       "      <td>8.744462</td>\n",
       "      <td>13376.323458</td>\n",
       "      <td>43.823397</td>\n",
       "      <td>0.500000</td>\n",
       "      <td>0.500129</td>\n",
       "    </tr>\n",
       "    <tr>\n",
       "      <th>min</th>\n",
       "      <td>32.600000</td>\n",
       "      <td>19.000000</td>\n",
       "      <td>13996.500000</td>\n",
       "      <td>104.780000</td>\n",
       "      <td>0.000000</td>\n",
       "      <td>0.000000</td>\n",
       "    </tr>\n",
       "    <tr>\n",
       "      <th>25%</th>\n",
       "      <td>52.160000</td>\n",
       "      <td>29.000000</td>\n",
       "      <td>47494.787500</td>\n",
       "      <td>139.245000</td>\n",
       "      <td>0.000000</td>\n",
       "      <td>0.000000</td>\n",
       "    </tr>\n",
       "    <tr>\n",
       "      <th>50%</th>\n",
       "      <td>68.945000</td>\n",
       "      <td>35.000000</td>\n",
       "      <td>57631.345000</td>\n",
       "      <td>184.555000</td>\n",
       "      <td>0.000000</td>\n",
       "      <td>0.000000</td>\n",
       "    </tr>\n",
       "    <tr>\n",
       "      <th>75%</th>\n",
       "      <td>78.610000</td>\n",
       "      <td>41.000000</td>\n",
       "      <td>65666.300000</td>\n",
       "      <td>219.720000</td>\n",
       "      <td>1.000000</td>\n",
       "      <td>1.000000</td>\n",
       "    </tr>\n",
       "    <tr>\n",
       "      <th>max</th>\n",
       "      <td>91.430000</td>\n",
       "      <td>61.000000</td>\n",
       "      <td>79484.800000</td>\n",
       "      <td>269.960000</td>\n",
       "      <td>1.000000</td>\n",
       "      <td>1.000000</td>\n",
       "    </tr>\n",
       "  </tbody>\n",
       "</table>\n",
       "</div>"
      ],
      "text/plain": [
       "       Daily Time Spent on Site         Age   Area Income  \\\n",
       "count                900.000000  900.000000    900.000000   \n",
       "mean                  65.425800   35.903333  55315.072767   \n",
       "std                   15.712563    8.744462  13376.323458   \n",
       "min                   32.600000   19.000000  13996.500000   \n",
       "25%                   52.160000   29.000000  47494.787500   \n",
       "50%                   68.945000   35.000000  57631.345000   \n",
       "75%                   78.610000   41.000000  65666.300000   \n",
       "max                   91.430000   61.000000  79484.800000   \n",
       "\n",
       "       Daily Internet Usage        Male  Clicked on Ad  \n",
       "count            900.000000  900.000000     900.000000  \n",
       "mean             180.702344    0.483333       0.487778  \n",
       "std               43.823397    0.500000       0.500129  \n",
       "min              104.780000    0.000000       0.000000  \n",
       "25%              139.245000    0.000000       0.000000  \n",
       "50%              184.555000    0.000000       0.000000  \n",
       "75%              219.720000    1.000000       1.000000  \n",
       "max              269.960000    1.000000       1.000000  "
      ]
     },
     "execution_count": 4,
     "metadata": {},
     "output_type": "execute_result"
    }
   ],
   "source": [
    " \n",
    "data.describe()"
   ]
  },
  {
   "cell_type": "markdown",
   "metadata": {},
   "source": [
    "#### 2. Displaying details regarding categorical columns"
   ]
  },
  {
   "cell_type": "code",
   "execution_count": 5,
   "metadata": {},
   "outputs": [
    {
     "data": {
      "text/html": [
       "<div>\n",
       "<style scoped>\n",
       "    .dataframe tbody tr th:only-of-type {\n",
       "        vertical-align: middle;\n",
       "    }\n",
       "\n",
       "    .dataframe tbody tr th {\n",
       "        vertical-align: top;\n",
       "    }\n",
       "\n",
       "    .dataframe thead th {\n",
       "        text-align: right;\n",
       "    }\n",
       "</style>\n",
       "<table border=\"1\" class=\"dataframe\">\n",
       "  <thead>\n",
       "    <tr style=\"text-align: right;\">\n",
       "      <th></th>\n",
       "      <th>Ad Topic Line</th>\n",
       "      <th>City</th>\n",
       "      <th>Country</th>\n",
       "      <th>Timestamp</th>\n",
       "    </tr>\n",
       "  </thead>\n",
       "  <tbody>\n",
       "    <tr>\n",
       "      <th>count</th>\n",
       "      <td>900</td>\n",
       "      <td>900</td>\n",
       "      <td>900</td>\n",
       "      <td>900</td>\n",
       "    </tr>\n",
       "    <tr>\n",
       "      <th>unique</th>\n",
       "      <td>900</td>\n",
       "      <td>875</td>\n",
       "      <td>234</td>\n",
       "      <td>897</td>\n",
       "    </tr>\n",
       "    <tr>\n",
       "      <th>top</th>\n",
       "      <td>Intuitive dynamic attitude</td>\n",
       "      <td>Lisamouth</td>\n",
       "      <td>Micronesia</td>\n",
       "      <td>20/05/2016 12:17</td>\n",
       "    </tr>\n",
       "    <tr>\n",
       "      <th>freq</th>\n",
       "      <td>1</td>\n",
       "      <td>3</td>\n",
       "      <td>8</td>\n",
       "      <td>2</td>\n",
       "    </tr>\n",
       "  </tbody>\n",
       "</table>\n",
       "</div>"
      ],
      "text/plain": [
       "                     Ad Topic Line       City     Country         Timestamp\n",
       "count                          900        900         900               900\n",
       "unique                         900        875         234               897\n",
       "top     Intuitive dynamic attitude  Lisamouth  Micronesia  20/05/2016 12:17\n",
       "freq                             1          3           8                 2"
      ]
     },
     "execution_count": 5,
     "metadata": {},
     "output_type": "execute_result"
    }
   ],
   "source": [
    "import numpy as np\n",
    "data.describe(include=[np.object])"
   ]
  },
  {
   "cell_type": "markdown",
   "metadata": {},
   "source": [
    "## Generating some insights from the data by analysis"
   ]
  },
  {
   "cell_type": "markdown",
   "metadata": {},
   "source": [
    "### Assumptions"
   ]
  },
  {
   "cell_type": "raw",
   "metadata": {},
   "source": [
    "1. Is there any relation between number of clicks and country of the person?\n",
    "2. Is there any relation between the 'Daily Time spent on Site' and 'Clicked Ad' column?\n",
    "3. What is the probability that male or female is going to click on the advertisement?\n",
    "4. Is 'Age' and 'Area Income' makes the user to click on 'Advertisement' or not?"
   ]
  },
  {
   "cell_type": "markdown",
   "metadata": {},
   "source": [
    "#### 1. Relation between Number of Clicks per Country"
   ]
  },
  {
   "cell_type": "code",
   "execution_count": 6,
   "metadata": {},
   "outputs": [
    {
     "data": {
      "text/plain": [
       "234"
      ]
     },
     "execution_count": 6,
     "metadata": {},
     "output_type": "execute_result"
    }
   ],
   "source": [
    "## List of unique countries\n",
    "len(data['Country'].unique().tolist())"
   ]
  },
  {
   "cell_type": "raw",
   "metadata": {},
   "source": [
    "We have a total of 234 countries data.\n",
    "Let's visualize the data of first 10 countries, which have the highest advertisement click rate."
   ]
  },
  {
   "cell_type": "code",
   "execution_count": 7,
   "metadata": {},
   "outputs": [
    {
     "data": {
      "text/html": [
       "<div>\n",
       "<style scoped>\n",
       "    .dataframe tbody tr th:only-of-type {\n",
       "        vertical-align: middle;\n",
       "    }\n",
       "\n",
       "    .dataframe tbody tr th {\n",
       "        vertical-align: top;\n",
       "    }\n",
       "\n",
       "    .dataframe thead th {\n",
       "        text-align: right;\n",
       "    }\n",
       "</style>\n",
       "<table border=\"1\" class=\"dataframe\">\n",
       "  <thead>\n",
       "    <tr style=\"text-align: right;\">\n",
       "      <th></th>\n",
       "      <th>Daily Time Spent on Site</th>\n",
       "      <th>Age</th>\n",
       "      <th>Area Income</th>\n",
       "      <th>Daily Internet Usage</th>\n",
       "      <th>Ad Topic Line</th>\n",
       "      <th>City</th>\n",
       "      <th>Male</th>\n",
       "      <th>Country</th>\n",
       "      <th>Timestamp</th>\n",
       "      <th>Clicked on Ad</th>\n",
       "    </tr>\n",
       "  </thead>\n",
       "  <tbody>\n",
       "    <tr>\n",
       "      <th>7</th>\n",
       "      <td>66.00</td>\n",
       "      <td>48</td>\n",
       "      <td>24593.33</td>\n",
       "      <td>131.76</td>\n",
       "      <td>Reactive local challenge</td>\n",
       "      <td>Port Jefferybury</td>\n",
       "      <td>1</td>\n",
       "      <td>Australia</td>\n",
       "      <td>07/03/2016 1:40</td>\n",
       "      <td>1</td>\n",
       "    </tr>\n",
       "    <tr>\n",
       "      <th>10</th>\n",
       "      <td>47.64</td>\n",
       "      <td>49</td>\n",
       "      <td>45632.51</td>\n",
       "      <td>122.02</td>\n",
       "      <td>Centralized neutral neural-net</td>\n",
       "      <td>West Brandonton</td>\n",
       "      <td>0</td>\n",
       "      <td>Qatar</td>\n",
       "      <td>16/03/2016 20:19</td>\n",
       "      <td>1</td>\n",
       "    </tr>\n",
       "    <tr>\n",
       "      <th>12</th>\n",
       "      <td>69.57</td>\n",
       "      <td>48</td>\n",
       "      <td>51636.92</td>\n",
       "      <td>113.12</td>\n",
       "      <td>Centralized content-based focus group</td>\n",
       "      <td>West Katiefurt</td>\n",
       "      <td>1</td>\n",
       "      <td>Egypt</td>\n",
       "      <td>03/06/2016 1:14</td>\n",
       "      <td>1</td>\n",
       "    </tr>\n",
       "    <tr>\n",
       "      <th>14</th>\n",
       "      <td>42.95</td>\n",
       "      <td>33</td>\n",
       "      <td>30976.00</td>\n",
       "      <td>143.56</td>\n",
       "      <td>Grass-roots coherent extranet</td>\n",
       "      <td>West William</td>\n",
       "      <td>0</td>\n",
       "      <td>Barbados</td>\n",
       "      <td>24/03/2016 9:31</td>\n",
       "      <td>1</td>\n",
       "    </tr>\n",
       "    <tr>\n",
       "      <th>15</th>\n",
       "      <td>63.45</td>\n",
       "      <td>23</td>\n",
       "      <td>52182.23</td>\n",
       "      <td>140.64</td>\n",
       "      <td>Persistent demand-driven interface</td>\n",
       "      <td>New Travistown</td>\n",
       "      <td>1</td>\n",
       "      <td>Spain</td>\n",
       "      <td>09/03/2016 3:41</td>\n",
       "      <td>1</td>\n",
       "    </tr>\n",
       "    <tr>\n",
       "      <th>...</th>\n",
       "      <td>...</td>\n",
       "      <td>...</td>\n",
       "      <td>...</td>\n",
       "      <td>...</td>\n",
       "      <td>...</td>\n",
       "      <td>...</td>\n",
       "      <td>...</td>\n",
       "      <td>...</td>\n",
       "      <td>...</td>\n",
       "      <td>...</td>\n",
       "    </tr>\n",
       "    <tr>\n",
       "      <th>891</th>\n",
       "      <td>54.39</td>\n",
       "      <td>20</td>\n",
       "      <td>52563.22</td>\n",
       "      <td>171.90</td>\n",
       "      <td>Digitized content-based circuit</td>\n",
       "      <td>Richardshire</td>\n",
       "      <td>1</td>\n",
       "      <td>Guadeloupe</td>\n",
       "      <td>29/02/2016 18:06</td>\n",
       "      <td>1</td>\n",
       "    </tr>\n",
       "    <tr>\n",
       "      <th>892</th>\n",
       "      <td>37.74</td>\n",
       "      <td>40</td>\n",
       "      <td>65773.49</td>\n",
       "      <td>190.95</td>\n",
       "      <td>Balanced uniform algorithm</td>\n",
       "      <td>Lake James</td>\n",
       "      <td>0</td>\n",
       "      <td>Denmark</td>\n",
       "      <td>27/05/2016 12:45</td>\n",
       "      <td>1</td>\n",
       "    </tr>\n",
       "    <tr>\n",
       "      <th>897</th>\n",
       "      <td>77.36</td>\n",
       "      <td>41</td>\n",
       "      <td>49597.08</td>\n",
       "      <td>115.79</td>\n",
       "      <td>Fully-configurable asynchronous firmware</td>\n",
       "      <td>Port Jennifer</td>\n",
       "      <td>0</td>\n",
       "      <td>El Salvador</td>\n",
       "      <td>26/02/2016 6:00</td>\n",
       "      <td>1</td>\n",
       "    </tr>\n",
       "    <tr>\n",
       "      <th>898</th>\n",
       "      <td>55.46</td>\n",
       "      <td>37</td>\n",
       "      <td>42078.89</td>\n",
       "      <td>108.10</td>\n",
       "      <td>Exclusive systematic algorithm</td>\n",
       "      <td>Chrismouth</td>\n",
       "      <td>0</td>\n",
       "      <td>Taiwan</td>\n",
       "      <td>21/02/2016 23:07</td>\n",
       "      <td>1</td>\n",
       "    </tr>\n",
       "    <tr>\n",
       "      <th>899</th>\n",
       "      <td>35.66</td>\n",
       "      <td>45</td>\n",
       "      <td>46197.59</td>\n",
       "      <td>151.72</td>\n",
       "      <td>Exclusive cohesive intranet</td>\n",
       "      <td>Port Beth</td>\n",
       "      <td>0</td>\n",
       "      <td>Peru</td>\n",
       "      <td>29/04/2016 14:08</td>\n",
       "      <td>1</td>\n",
       "    </tr>\n",
       "  </tbody>\n",
       "</table>\n",
       "<p>439 rows × 10 columns</p>\n",
       "</div>"
      ],
      "text/plain": [
       "     Daily Time Spent on Site  Age  Area Income  Daily Internet Usage  \\\n",
       "7                       66.00   48     24593.33                131.76   \n",
       "10                      47.64   49     45632.51                122.02   \n",
       "12                      69.57   48     51636.92                113.12   \n",
       "14                      42.95   33     30976.00                143.56   \n",
       "15                      63.45   23     52182.23                140.64   \n",
       "..                        ...  ...          ...                   ...   \n",
       "891                     54.39   20     52563.22                171.90   \n",
       "892                     37.74   40     65773.49                190.95   \n",
       "897                     77.36   41     49597.08                115.79   \n",
       "898                     55.46   37     42078.89                108.10   \n",
       "899                     35.66   45     46197.59                151.72   \n",
       "\n",
       "                                Ad Topic Line              City  Male  \\\n",
       "7                    Reactive local challenge  Port Jefferybury     1   \n",
       "10             Centralized neutral neural-net   West Brandonton     0   \n",
       "12      Centralized content-based focus group    West Katiefurt     1   \n",
       "14              Grass-roots coherent extranet      West William     0   \n",
       "15         Persistent demand-driven interface    New Travistown     1   \n",
       "..                                        ...               ...   ...   \n",
       "891           Digitized content-based circuit      Richardshire     1   \n",
       "892                Balanced uniform algorithm        Lake James     0   \n",
       "897  Fully-configurable asynchronous firmware     Port Jennifer     0   \n",
       "898            Exclusive systematic algorithm        Chrismouth     0   \n",
       "899               Exclusive cohesive intranet         Port Beth     0   \n",
       "\n",
       "         Country         Timestamp  Clicked on Ad  \n",
       "7      Australia   07/03/2016 1:40              1  \n",
       "10         Qatar  16/03/2016 20:19              1  \n",
       "12         Egypt   03/06/2016 1:14              1  \n",
       "14      Barbados   24/03/2016 9:31              1  \n",
       "15         Spain   09/03/2016 3:41              1  \n",
       "..           ...               ...            ...  \n",
       "891   Guadeloupe  29/02/2016 18:06              1  \n",
       "892      Denmark  27/05/2016 12:45              1  \n",
       "897  El Salvador   26/02/2016 6:00              1  \n",
       "898       Taiwan  21/02/2016 23:07              1  \n",
       "899         Peru  29/04/2016 14:08              1  \n",
       "\n",
       "[439 rows x 10 columns]"
      ]
     },
     "execution_count": 7,
     "metadata": {},
     "output_type": "execute_result"
    }
   ],
   "source": [
    "clicked_data = data[data['Clicked on Ad']==1]\n",
    "clicked_data"
   ]
  },
  {
   "cell_type": "code",
   "execution_count": 8,
   "metadata": {},
   "outputs": [
    {
     "data": {
      "text/plain": [
       "Country\n",
       "Afghanistan          5\n",
       "Albania              3\n",
       "Algeria              3\n",
       "American Samoa       3\n",
       "Andorra              2\n",
       "                    ..\n",
       "Wallis and Futuna    1\n",
       "Western Sahara       4\n",
       "Yemen                1\n",
       "Zambia               3\n",
       "Zimbabwe             4\n",
       "Name: Clicked on Ad, Length: 205, dtype: int64"
      ]
     },
     "execution_count": 8,
     "metadata": {},
     "output_type": "execute_result"
    }
   ],
   "source": [
    "countries_data = clicked_data.groupby(['Country'])['Clicked on Ad'].sum()\n",
    "countries_data"
   ]
  },
  {
   "cell_type": "code",
   "execution_count": 9,
   "metadata": {},
   "outputs": [
    {
     "data": {
      "text/plain": [
       "Country\n",
       "Turkey            7\n",
       "Australia         7\n",
       "South Africa      6\n",
       "Liechtenstein     6\n",
       "Ethiopia          5\n",
       "Peru              5\n",
       "Hungary           5\n",
       "Afghanistan       5\n",
       "Czech Republic    4\n",
       "France            4\n",
       "Name: Clicked on Ad, dtype: int64"
      ]
     },
     "execution_count": 9,
     "metadata": {},
     "output_type": "execute_result"
    }
   ],
   "source": [
    "countries_data = countries_data.sort_values(ascending=False)\n",
    "countries_data = countries_data.head(10)\n",
    "countries_data"
   ]
  },
  {
   "cell_type": "markdown",
   "metadata": {},
   "source": [
    "### Visualize the data of first 10 countries using bar chart"
   ]
  },
  {
   "cell_type": "code",
   "execution_count": 10,
   "metadata": {},
   "outputs": [],
   "source": [
    "import matplotlib.pyplot as plt"
   ]
  },
  {
   "cell_type": "code",
   "execution_count": 11,
   "metadata": {},
   "outputs": [
    {
     "name": "stderr",
     "output_type": "stream",
     "text": [
      "C:\\Users\\Aakansha\\Anaconda3\\lib\\site-packages\\statsmodels\\tools\\_testing.py:19: FutureWarning: pandas.util.testing is deprecated. Use the functions in the public API at pandas.testing instead.\n",
      "  import pandas.util.testing as tm\n"
     ]
    }
   ],
   "source": [
    "import seaborn as sns"
   ]
  },
  {
   "cell_type": "code",
   "execution_count": 12,
   "metadata": {},
   "outputs": [],
   "source": [
    "sns.set()"
   ]
  },
  {
   "cell_type": "code",
   "execution_count": 13,
   "metadata": {},
   "outputs": [
    {
     "data": {
      "text/plain": [
       "Country\n",
       "Turkey            7\n",
       "Australia         7\n",
       "South Africa      6\n",
       "Liechtenstein     6\n",
       "Ethiopia          5\n",
       "Peru              5\n",
       "Hungary           5\n",
       "Afghanistan       5\n",
       "Czech Republic    4\n",
       "France            4\n",
       "Name: Clicked on Ad, dtype: int64"
      ]
     },
     "execution_count": 13,
     "metadata": {},
     "output_type": "execute_result"
    }
   ],
   "source": [
    "countries_data"
   ]
  },
  {
   "cell_type": "code",
   "execution_count": 14,
   "metadata": {},
   "outputs": [
    {
     "data": {
      "image/png": "[encoded data removed]",
      "text/plain": [
       "<Figure size 1080x720 with 1 Axes>"
      ]
     },
     "metadata": {},
     "output_type": "display_data"
    }
   ],
   "source": [
    "font_dict = {\n",
    "    'family': 'serif',\n",
    "    'size': 15\n",
    "}\n",
    "plt.figure(figsize=(15,10))\n",
    "plt.bar(data=countries_data, x=countries_data.index, height=countries_data.values)\n",
    "plt.xlabel('Countries', fontdict=font_dict)\n",
    "plt.ylabel('Clicked Users Count', fontdict=font_dict)\n",
    "plt.title('Countries with Highest user click', fontdict=font_dict)\n",
    "plt.savefig('Countries-Highest-Click')\n",
    "plt.show()"
   ]
  },
  {
   "cell_type": "markdown",
   "metadata": {},
   "source": [
    "### 2. Is there any relation between the 'Daily Time spent on Site' and 'Clicked Ad' column?"
   ]
  },
  {
   "cell_type": "raw",
   "metadata": {},
   "source": [
    "As both the columns are continuous variables, we will check the correlation test result and create a scatter plot."
   ]
  },
  {
   "cell_type": "code",
   "execution_count": 15,
   "metadata": {},
   "outputs": [
    {
     "data": {
      "text/plain": [
       "-0.7525701045280432"
      ]
     },
     "execution_count": 15,
     "metadata": {},
     "output_type": "execute_result"
    }
   ],
   "source": [
    "## performing correlation test\n",
    "data['Daily Time Spent on Site'].corr(data['Clicked on Ad'])"
   ]
  },
  {
   "cell_type": "raw",
   "metadata": {},
   "source": [
    "As the value is high but it's in negative, we can say that as there is negative correlation. What it means is that as the daily time spent increase, there are less chances that user will click on the ad."
   ]
  },
  {
   "cell_type": "code",
   "execution_count": 16,
   "metadata": {},
   "outputs": [
    {
     "data": {
      "image/png": "[encoded data removed]",
      "text/plain": [
       "<Figure size 1080x720 with 1 Axes>"
      ]
     },
     "metadata": {},
     "output_type": "display_data"
    }
   ],
   "source": [
    "plt.figure(figsize=(15,10))\n",
    "#plt.scatter(x=data['Daily Time Spent on Site'], y=data['Clicked on Ad'], data=data)\n",
    "plt.xlabel('Daily Time Spent', fontdict=font_dict)\n",
    "plt.ylabel('Clicked on Ad', fontdict=font_dict)\n",
    "plt.yticks(np.arange(2), ['No', 'Yes'])\n",
    "plt.scatter(data['Daily Time Spent on Site'],data['Clicked on Ad'])\n",
    "plt.title('Daily Time Spent vs Clicked Ad', fontdict=font_dict)\n",
    "plt.savefig('Time-Spent-vs-Clicked-Ad.png')\n",
    "plt.show()"
   ]
  },
  {
   "cell_type": "markdown",
   "metadata": {},
   "source": [
    "### 3. What is the probability that male or female is going to click on the advertisement?"
   ]
  },
  {
   "cell_type": "code",
   "execution_count": 17,
   "metadata": {},
   "outputs": [
    {
     "data": {
      "text/plain": [
       "0    236\n",
       "1    203\n",
       "Name: Male, dtype: int64"
      ]
     },
     "execution_count": 17,
     "metadata": {},
     "output_type": "execute_result"
    }
   ],
   "source": [
    "## let's create a new dataframe that should have only persons who have clicked on the advertisement.\n",
    "clicked_data['Male'].value_counts()"
   ]
  },
  {
   "cell_type": "code",
   "execution_count": null,
   "metadata": {},
   "outputs": [],
   "source": []
  },
  {
   "cell_type": "code",
   "execution_count": 18,
   "metadata": {},
   "outputs": [
    {
     "data": {
      "image/png": "[encoded data removed]",
      "text/plain": [
       "<Figure size 1080x504 with 1 Axes>"
      ]
     },
     "metadata": {},
     "output_type": "display_data"
    }
   ],
   "source": [
    "plt.figure(figsize=(15, 7))\n",
    "clicked_data['Male'].value_counts().plot.bar()\n",
    "plt.xlabel('Gender', fontdict=font_dict)\n",
    "plt.ylabel('Total clicks on Advertisemet', fontdict=font_dict)\n",
    "plt.title('Gender-vs-Advertisement-Click', fontdict=font_dict)\n",
    "plt.xticks(clicked_data['Male'].unique(), ['Male', 'Female'], rotation=0)\n",
    "plt.savefig('Gender-vs-Advertisement-Click.png')\n",
    "plt.show()"
   ]
  },
  {
   "cell_type": "code",
   "execution_count": null,
   "metadata": {},
   "outputs": [],
   "source": []
  },
  {
   "cell_type": "markdown",
   "metadata": {},
   "source": [
    "### Create a stacked chart to see what percentage of male and female have clicked on advertisement"
   ]
  },
  {
   "cell_type": "code",
   "execution_count": 19,
   "metadata": {},
   "outputs": [
    {
     "data": {
      "text/plain": [
       "Male  Clicked on Ad\n",
       "0     1                236\n",
       "      0                229\n",
       "1     0                232\n",
       "      1                203\n",
       "Name: Clicked on Ad, dtype: int64"
      ]
     },
     "execution_count": 19,
     "metadata": {},
     "output_type": "execute_result"
    }
   ],
   "source": [
    "gender_ad_data = data.groupby(['Male'])['Clicked on Ad'].value_counts()\n",
    "gender_ad_data"
   ]
  },
  {
   "cell_type": "code",
   "execution_count": 20,
   "metadata": {},
   "outputs": [
    {
     "data": {
      "text/plain": [
       "465"
      ]
     },
     "execution_count": 20,
     "metadata": {},
     "output_type": "execute_result"
    }
   ],
   "source": [
    "total_females = data[data['Male']==0].shape[0]\n",
    "total_females"
   ]
  },
  {
   "cell_type": "code",
   "execution_count": 21,
   "metadata": {},
   "outputs": [
    {
     "data": {
      "text/plain": [
       "0.5075268817204301"
      ]
     },
     "execution_count": 21,
     "metadata": {},
     "output_type": "execute_result"
    }
   ],
   "source": [
    "percentage_female_clicked = data[(data['Male']==0) & (data['Clicked on Ad']==1)].shape[0]/total_females\n",
    "percentage_female_clicked"
   ]
  },
  {
   "cell_type": "code",
   "execution_count": 22,
   "metadata": {},
   "outputs": [
    {
     "data": {
      "text/plain": [
       "435"
      ]
     },
     "execution_count": 22,
     "metadata": {},
     "output_type": "execute_result"
    }
   ],
   "source": [
    "total_males = data[data['Male']==1].shape[0]\n",
    "total_males"
   ]
  },
  {
   "cell_type": "code",
   "execution_count": 23,
   "metadata": {},
   "outputs": [
    {
     "data": {
      "text/plain": [
       "0.4666666666666667"
      ]
     },
     "execution_count": 23,
     "metadata": {},
     "output_type": "execute_result"
    }
   ],
   "source": [
    "percentage_male_clicked = data[(data['Male']==1) & (data['Clicked on Ad']==1)].shape[0]/total_males\n",
    "percentage_male_clicked"
   ]
  },
  {
   "cell_type": "code",
   "execution_count": 24,
   "metadata": {},
   "outputs": [],
   "source": [
    "## checking the percentage of advertisement click by female and male against the whole population"
   ]
  },
  {
   "cell_type": "code",
   "execution_count": 25,
   "metadata": {},
   "outputs": [
    {
     "data": {
      "text/plain": [
       "0.26222222222222225"
      ]
     },
     "execution_count": 25,
     "metadata": {},
     "output_type": "execute_result"
    }
   ],
   "source": [
    "percentage_female_clicked = data[(data['Male']==0) & (data['Clicked on Ad']==1)].shape[0]/data.shape[0]\n",
    "percentage_female_clicked"
   ]
  },
  {
   "cell_type": "code",
   "execution_count": 26,
   "metadata": {},
   "outputs": [
    {
     "data": {
      "text/plain": [
       "0.22555555555555556"
      ]
     },
     "execution_count": 26,
     "metadata": {},
     "output_type": "execute_result"
    }
   ],
   "source": [
    "percentage_female_clicked = data[(data['Male']==1) & (data['Clicked on Ad']==1)].shape[0]/data.shape[0]\n",
    "percentage_female_clicked"
   ]
  },
  {
   "cell_type": "raw",
   "metadata": {},
   "source": [
    "So overall, if a person is a female, there is a 26.2 percent chances that she is going to click on the advertisement.\n",
    "If the persons is a male, there is a 22.5 percent chances that he is going to click on the advertisement."
   ]
  },
  {
   "cell_type": "markdown",
   "metadata": {},
   "source": [
    "### 4. Is 'Age' and 'Area Income' makes the user to click on 'Advertisement' or not?"
   ]
  },
  {
   "cell_type": "code",
   "execution_count": 27,
   "metadata": {},
   "outputs": [],
   "source": [
    "## let's create a heat map to get an overall picture regarding all the continuous variables."
   ]
  },
  {
   "cell_type": "code",
   "execution_count": 28,
   "metadata": {},
   "outputs": [],
   "source": [
    "import seaborn as sns"
   ]
  },
  {
   "cell_type": "code",
   "execution_count": 29,
   "metadata": {},
   "outputs": [
    {
     "data": {
      "text/html": [
       "<div>\n",
       "<style scoped>\n",
       "    .dataframe tbody tr th:only-of-type {\n",
       "        vertical-align: middle;\n",
       "    }\n",
       "\n",
       "    .dataframe tbody tr th {\n",
       "        vertical-align: top;\n",
       "    }\n",
       "\n",
       "    .dataframe thead th {\n",
       "        text-align: right;\n",
       "    }\n",
       "</style>\n",
       "<table border=\"1\" class=\"dataframe\">\n",
       "  <thead>\n",
       "    <tr style=\"text-align: right;\">\n",
       "      <th></th>\n",
       "      <th>Daily Time Spent on Site</th>\n",
       "      <th>Age</th>\n",
       "      <th>Area Income</th>\n",
       "      <th>Daily Internet Usage</th>\n",
       "      <th>Male</th>\n",
       "      <th>Clicked on Ad</th>\n",
       "    </tr>\n",
       "  </thead>\n",
       "  <tbody>\n",
       "    <tr>\n",
       "      <th>0</th>\n",
       "      <td>68.95</td>\n",
       "      <td>35</td>\n",
       "      <td>61833.90</td>\n",
       "      <td>256.09</td>\n",
       "      <td>0</td>\n",
       "      <td>0</td>\n",
       "    </tr>\n",
       "    <tr>\n",
       "      <th>1</th>\n",
       "      <td>80.23</td>\n",
       "      <td>31</td>\n",
       "      <td>68441.85</td>\n",
       "      <td>193.77</td>\n",
       "      <td>1</td>\n",
       "      <td>0</td>\n",
       "    </tr>\n",
       "    <tr>\n",
       "      <th>2</th>\n",
       "      <td>69.47</td>\n",
       "      <td>26</td>\n",
       "      <td>59785.94</td>\n",
       "      <td>236.50</td>\n",
       "      <td>0</td>\n",
       "      <td>0</td>\n",
       "    </tr>\n",
       "    <tr>\n",
       "      <th>3</th>\n",
       "      <td>74.15</td>\n",
       "      <td>29</td>\n",
       "      <td>54806.18</td>\n",
       "      <td>245.89</td>\n",
       "      <td>1</td>\n",
       "      <td>0</td>\n",
       "    </tr>\n",
       "    <tr>\n",
       "      <th>4</th>\n",
       "      <td>68.37</td>\n",
       "      <td>35</td>\n",
       "      <td>73889.99</td>\n",
       "      <td>225.58</td>\n",
       "      <td>0</td>\n",
       "      <td>0</td>\n",
       "    </tr>\n",
       "  </tbody>\n",
       "</table>\n",
       "</div>"
      ],
      "text/plain": [
       "   Daily Time Spent on Site  Age  Area Income  Daily Internet Usage  Male  \\\n",
       "0                     68.95   35     61833.90                256.09     0   \n",
       "1                     80.23   31     68441.85                193.77     1   \n",
       "2                     69.47   26     59785.94                236.50     0   \n",
       "3                     74.15   29     54806.18                245.89     1   \n",
       "4                     68.37   35     73889.99                225.58     0   \n",
       "\n",
       "   Clicked on Ad  \n",
       "0              0  \n",
       "1              0  \n",
       "2              0  \n",
       "3              0  \n",
       "4              0  "
      ]
     },
     "execution_count": 29,
     "metadata": {},
     "output_type": "execute_result"
    }
   ],
   "source": [
    "continuous_data = data[['Daily Time Spent on Site', 'Age','Area Income', 'Daily Internet Usage', 'Male', 'Clicked on Ad']]\n",
    "continuous_data.head()"
   ]
  },
  {
   "cell_type": "code",
   "execution_count": 30,
   "metadata": {},
   "outputs": [
    {
     "data": {
      "image/png": "[encoded data removed]",
      "text/plain": [
       "<Figure size 1080x576 with 2 Axes>"
      ]
     },
     "metadata": {},
     "output_type": "display_data"
    }
   ],
   "source": [
    "plt.figure(figsize=(15, 8))\n",
    "sns.heatmap(data.corr(), annot=True, linecolor='white', linewidths=3)\n",
    "plt.xticks(size=10)\n",
    "plt.yticks(size=10)\n",
    "plt.title('Variables-Correlation', fontdict=font_dict)\n",
    "plt.savefig('Variables-Correlation.png')\n",
    "plt.show()"
   ]
  },
  {
   "cell_type": "raw",
   "metadata": {},
   "source": [
    "Some insights - \n",
    "\n",
    "1. Age is directly relational to the users chances of clicking on the advertisement, with the correlation of 0.48.\n",
    "2. Daily Internet usage is negatively correlated with Internet usage, with the correlation of -0.49.\n",
    "3. Being a male is also negatively correlated but it doesn't effect my data that much. It's neutral.\n",
    "4. Area Income is also negatively correlated with the user's chances of clicking on the advertisement."
   ]
  },
  {
   "cell_type": "markdown",
   "metadata": {},
   "source": [
    "### Let's visualize how age is related with user's chances of clicking on the ad."
   ]
  },
  {
   "cell_type": "code",
   "execution_count": 31,
   "metadata": {},
   "outputs": [
    {
     "data": {
      "image/png": "[encoded data removed]",
      "text/plain": [
       "<Figure size 1080x720 with 1 Axes>"
      ]
     },
     "metadata": {},
     "output_type": "display_data"
    }
   ],
   "source": [
    "plt.figure(figsize=(15, 10))\n",
    "data['Age'].plot.hist()\n",
    "plt.xlabel('Age', fontdict=font_dict)\n",
    "plt.ylabel('Count of peoples', fontdict=font_dict)\n",
    "plt.title('Age-Count', fontdict=font_dict)\n",
    "plt.savefig('Persons-Age.png')\n",
    "plt.show()"
   ]
  },
  {
   "cell_type": "markdown",
   "metadata": {},
   "source": [
    "### Converting age continuous data into categorical data to get bins"
   ]
  },
  {
   "cell_type": "code",
   "execution_count": 32,
   "metadata": {},
   "outputs": [
    {
     "data": {
      "text/plain": [
       "(0, 10]       0\n",
       "(10, 20]     10\n",
       "(20, 30]    264\n",
       "(30, 40]    372\n",
       "(40, 50]    190\n",
       "(50, 60]     63\n",
       "(60, 70]      1\n",
       "Name: Age, dtype: int64"
      ]
     },
     "execution_count": 32,
     "metadata": {},
     "output_type": "execute_result"
    }
   ],
   "source": [
    "age_bins = pd.cut(data.Age, bins=[0, 10, 20, 30, 40, 50, 60, 70])\n",
    "age_bins.value_counts().sort_index(ascending=True)"
   ]
  },
  {
   "cell_type": "code",
   "execution_count": 33,
   "metadata": {},
   "outputs": [
    {
     "data": {
      "text/html": [
       "<div>\n",
       "<style scoped>\n",
       "    .dataframe tbody tr th:only-of-type {\n",
       "        vertical-align: middle;\n",
       "    }\n",
       "\n",
       "    .dataframe tbody tr th {\n",
       "        vertical-align: top;\n",
       "    }\n",
       "\n",
       "    .dataframe thead th {\n",
       "        text-align: right;\n",
       "    }\n",
       "</style>\n",
       "<table border=\"1\" class=\"dataframe\">\n",
       "  <thead>\n",
       "    <tr style=\"text-align: right;\">\n",
       "      <th></th>\n",
       "      <th>Daily Time Spent on Site</th>\n",
       "      <th>Age</th>\n",
       "      <th>Area Income</th>\n",
       "      <th>Daily Internet Usage</th>\n",
       "      <th>Ad Topic Line</th>\n",
       "      <th>City</th>\n",
       "      <th>Male</th>\n",
       "      <th>Country</th>\n",
       "      <th>Timestamp</th>\n",
       "      <th>Clicked on Ad</th>\n",
       "    </tr>\n",
       "  </thead>\n",
       "  <tbody>\n",
       "    <tr>\n",
       "      <th>7</th>\n",
       "      <td>66.00</td>\n",
       "      <td>48</td>\n",
       "      <td>24593.33</td>\n",
       "      <td>131.76</td>\n",
       "      <td>Reactive local challenge</td>\n",
       "      <td>Port Jefferybury</td>\n",
       "      <td>1</td>\n",
       "      <td>Australia</td>\n",
       "      <td>07/03/2016 1:40</td>\n",
       "      <td>1</td>\n",
       "    </tr>\n",
       "    <tr>\n",
       "      <th>10</th>\n",
       "      <td>47.64</td>\n",
       "      <td>49</td>\n",
       "      <td>45632.51</td>\n",
       "      <td>122.02</td>\n",
       "      <td>Centralized neutral neural-net</td>\n",
       "      <td>West Brandonton</td>\n",
       "      <td>0</td>\n",
       "      <td>Qatar</td>\n",
       "      <td>16/03/2016 20:19</td>\n",
       "      <td>1</td>\n",
       "    </tr>\n",
       "    <tr>\n",
       "      <th>12</th>\n",
       "      <td>69.57</td>\n",
       "      <td>48</td>\n",
       "      <td>51636.92</td>\n",
       "      <td>113.12</td>\n",
       "      <td>Centralized content-based focus group</td>\n",
       "      <td>West Katiefurt</td>\n",
       "      <td>1</td>\n",
       "      <td>Egypt</td>\n",
       "      <td>03/06/2016 1:14</td>\n",
       "      <td>1</td>\n",
       "    </tr>\n",
       "    <tr>\n",
       "      <th>14</th>\n",
       "      <td>42.95</td>\n",
       "      <td>33</td>\n",
       "      <td>30976.00</td>\n",
       "      <td>143.56</td>\n",
       "      <td>Grass-roots coherent extranet</td>\n",
       "      <td>West William</td>\n",
       "      <td>0</td>\n",
       "      <td>Barbados</td>\n",
       "      <td>24/03/2016 9:31</td>\n",
       "      <td>1</td>\n",
       "    </tr>\n",
       "    <tr>\n",
       "      <th>15</th>\n",
       "      <td>63.45</td>\n",
       "      <td>23</td>\n",
       "      <td>52182.23</td>\n",
       "      <td>140.64</td>\n",
       "      <td>Persistent demand-driven interface</td>\n",
       "      <td>New Travistown</td>\n",
       "      <td>1</td>\n",
       "      <td>Spain</td>\n",
       "      <td>09/03/2016 3:41</td>\n",
       "      <td>1</td>\n",
       "    </tr>\n",
       "  </tbody>\n",
       "</table>\n",
       "</div>"
      ],
      "text/plain": [
       "    Daily Time Spent on Site  Age  Area Income  Daily Internet Usage  \\\n",
       "7                      66.00   48     24593.33                131.76   \n",
       "10                     47.64   49     45632.51                122.02   \n",
       "12                     69.57   48     51636.92                113.12   \n",
       "14                     42.95   33     30976.00                143.56   \n",
       "15                     63.45   23     52182.23                140.64   \n",
       "\n",
       "                            Ad Topic Line              City  Male    Country  \\\n",
       "7                Reactive local challenge  Port Jefferybury     1  Australia   \n",
       "10         Centralized neutral neural-net   West Brandonton     0      Qatar   \n",
       "12  Centralized content-based focus group    West Katiefurt     1      Egypt   \n",
       "14          Grass-roots coherent extranet      West William     0   Barbados   \n",
       "15     Persistent demand-driven interface    New Travistown     1      Spain   \n",
       "\n",
       "           Timestamp  Clicked on Ad  \n",
       "7    07/03/2016 1:40              1  \n",
       "10  16/03/2016 20:19              1  \n",
       "12   03/06/2016 1:14              1  \n",
       "14   24/03/2016 9:31              1  \n",
       "15   09/03/2016 3:41              1  "
      ]
     },
     "execution_count": 33,
     "metadata": {},
     "output_type": "execute_result"
    }
   ],
   "source": [
    "# data[data['Clicked on Ad']==1].groupby(['Age']).values()\n",
    "age_clicked_data = data[data['Clicked on Ad']==1]\n",
    "age_clicked_data.head()"
   ]
  },
  {
   "cell_type": "code",
   "execution_count": 34,
   "metadata": {},
   "outputs": [
    {
     "data": {
      "image/png": "[encoded data removed]",
      "text/plain": [
       "<Figure size 1080x720 with 1 Axes>"
      ]
     },
     "metadata": {},
     "output_type": "display_data"
    }
   ],
   "source": [
    "plt.figure(figsize=(15, 10))\n",
    "age_clicked_data['Age'].plot.hist()\n",
    "plt.xlabel('Age', fontdict=font_dict)\n",
    "plt.ylabel('Count of peoples', fontdict=font_dict)\n",
    "plt.title('Ad vs Person Age', fontdict=font_dict)\n",
    "plt.savefig('Ad-vs-Person-Age.png')\n",
    "plt.show()"
   ]
  },
  {
   "cell_type": "code",
   "execution_count": 35,
   "metadata": {},
   "outputs": [
    {
     "data": {
      "text/plain": [
       "(0, 10]       0\n",
       "(10, 20]      2\n",
       "(20, 30]     69\n",
       "(30, 40]    153\n",
       "(40, 50]    154\n",
       "(50, 60]     60\n",
       "(60, 70]      1\n",
       "Name: Age, dtype: int64"
      ]
     },
     "execution_count": 35,
     "metadata": {},
     "output_type": "execute_result"
    }
   ],
   "source": [
    "age_bins = pd.cut(age_clicked_data.Age, bins=[0, 10, 20, 30, 40, 50, 60, 70])\n",
    "age_bins.value_counts().sort_index(ascending=True)"
   ]
  },
  {
   "cell_type": "code",
   "execution_count": 36,
   "metadata": {},
   "outputs": [
    {
     "data": {
      "text/html": [
       "<div>\n",
       "<style scoped>\n",
       "    .dataframe tbody tr th:only-of-type {\n",
       "        vertical-align: middle;\n",
       "    }\n",
       "\n",
       "    .dataframe tbody tr th {\n",
       "        vertical-align: top;\n",
       "    }\n",
       "\n",
       "    .dataframe thead th {\n",
       "        text-align: right;\n",
       "    }\n",
       "</style>\n",
       "<table border=\"1\" class=\"dataframe\">\n",
       "  <thead>\n",
       "    <tr style=\"text-align: right;\">\n",
       "      <th></th>\n",
       "      <th>Age</th>\n",
       "    </tr>\n",
       "  </thead>\n",
       "  <tbody>\n",
       "    <tr>\n",
       "      <th>(0, 10]</th>\n",
       "      <td>0</td>\n",
       "    </tr>\n",
       "    <tr>\n",
       "      <th>(10, 20]</th>\n",
       "      <td>2</td>\n",
       "    </tr>\n",
       "    <tr>\n",
       "      <th>(20, 30]</th>\n",
       "      <td>69</td>\n",
       "    </tr>\n",
       "    <tr>\n",
       "      <th>(30, 40]</th>\n",
       "      <td>153</td>\n",
       "    </tr>\n",
       "    <tr>\n",
       "      <th>(40, 50]</th>\n",
       "      <td>154</td>\n",
       "    </tr>\n",
       "  </tbody>\n",
       "</table>\n",
       "</div>"
      ],
      "text/plain": [
       "          Age\n",
       "(0, 10]     0\n",
       "(10, 20]    2\n",
       "(20, 30]   69\n",
       "(30, 40]  153\n",
       "(40, 50]  154"
      ]
     },
     "execution_count": 36,
     "metadata": {},
     "output_type": "execute_result"
    }
   ],
   "source": [
    "age_bins = pd.DataFrame(age_bins.value_counts().sort_index(ascending=True))\n",
    "age_bins.head()"
   ]
  },
  {
   "cell_type": "code",
   "execution_count": 37,
   "metadata": {},
   "outputs": [
    {
     "data": {
      "image/png": "[encoded data removed]",
      "text/plain": [
       "<Figure size 1080x720 with 1 Axes>"
      ]
     },
     "metadata": {},
     "output_type": "display_data"
    }
   ],
   "source": [
    "plt.figure(figsize=(15, 10))\n",
    "data['Age'].plot.hist(label='Total Users')\n",
    "data['Age'][data['Clicked on Ad']==1].plot.hist(label='Clicked on Ad Users')\n",
    "plt.xlabel('Age', fontdict=font_dict)\n",
    "plt.ylabel('Count of peoples', fontdict=font_dict)\n",
    "plt.title('Age-Count', fontdict=font_dict)\n",
    "plt.legend()\n",
    "plt.savefig('Age-vs-Ad-Clicked-Probability.png')\n",
    "plt.show()"
   ]
  },
  {
   "cell_type": "raw",
   "metadata": {},
   "source": [
    "So basically, if the age of the person is more than 45 we get more chances that the person is more likely to click on the data. Let's check it mathematically."
   ]
  },
  {
   "cell_type": "code",
   "execution_count": 38,
   "metadata": {},
   "outputs": [
    {
     "name": "stdout",
     "output_type": "stream",
     "text": [
      "Probability for  10 is:  0.48777777777777775\n",
      "Probability for  20 is:  0.4910112359550562\n",
      "Probability for  30 is:  0.5878594249201278\n",
      "Probability for  40 is:  0.8464566929133859\n",
      "Probability for  50 is:  0.953125\n",
      "Probability for  60 is:  1.0\n"
     ]
    }
   ],
   "source": [
    "age_list = [10, 20, 30, 40, 50, 60]\n",
    "for x in age_list:\n",
    "    click_age_probability = data[(data['Age']>x) & (data['Clicked on Ad']==1)].shape[0]/data[data['Age']>x].shape[0]\n",
    "    print(\"Probability for \", x, \"is: \", click_age_probability)"
   ]
  },
  {
   "cell_type": "code",
   "execution_count": 39,
   "metadata": {},
   "outputs": [
    {
     "data": {
      "text/plain": [
       "875"
      ]
     },
     "execution_count": 39,
     "metadata": {},
     "output_type": "execute_result"
    }
   ],
   "source": [
    "len(data['City'].unique().tolist())"
   ]
  },
  {
   "cell_type": "code",
   "execution_count": 40,
   "metadata": {},
   "outputs": [
    {
     "data": {
      "text/plain": [
       "0   2016-03-27 00:53:00\n",
       "1   2016-04-04 01:39:00\n",
       "2   2016-03-13 20:35:00\n",
       "3   2016-01-10 02:31:00\n",
       "4   2016-06-03 03:36:00\n",
       "Name: Timestamp_time, dtype: datetime64[ns]"
      ]
     },
     "execution_count": 40,
     "metadata": {},
     "output_type": "execute_result"
    }
   ],
   "source": [
    "# data['Timestamp'].head()\n",
    "data['Timestamp_time'] = pd.to_datetime(data['Timestamp'], infer_datetime_format=True)\n",
    "data['Timestamp_time'].head()"
   ]
  },
  {
   "cell_type": "code",
   "execution_count": 41,
   "metadata": {},
   "outputs": [],
   "source": [
    "## resample time for each hour\n",
    "data_acc_time = data\n",
    "# hour_data = data.groupby(data.Timestamp_time.).value_col.sum()\n",
    "# hour_data.head()"
   ]
  },
  {
   "cell_type": "code",
   "execution_count": 42,
   "metadata": {},
   "outputs": [
    {
     "data": {
      "text/html": [
       "<div>\n",
       "<style scoped>\n",
       "    .dataframe tbody tr th:only-of-type {\n",
       "        vertical-align: middle;\n",
       "    }\n",
       "\n",
       "    .dataframe tbody tr th {\n",
       "        vertical-align: top;\n",
       "    }\n",
       "\n",
       "    .dataframe thead th {\n",
       "        text-align: right;\n",
       "    }\n",
       "</style>\n",
       "<table border=\"1\" class=\"dataframe\">\n",
       "  <thead>\n",
       "    <tr style=\"text-align: right;\">\n",
       "      <th></th>\n",
       "      <th>Daily Time Spent on Site</th>\n",
       "      <th>Age</th>\n",
       "      <th>Area Income</th>\n",
       "      <th>Daily Internet Usage</th>\n",
       "      <th>Ad Topic Line</th>\n",
       "      <th>City</th>\n",
       "      <th>Male</th>\n",
       "      <th>Country</th>\n",
       "      <th>Timestamp</th>\n",
       "      <th>Clicked on Ad</th>\n",
       "    </tr>\n",
       "    <tr>\n",
       "      <th>Timestamp_time</th>\n",
       "      <th></th>\n",
       "      <th></th>\n",
       "      <th></th>\n",
       "      <th></th>\n",
       "      <th></th>\n",
       "      <th></th>\n",
       "      <th></th>\n",
       "      <th></th>\n",
       "      <th></th>\n",
       "      <th></th>\n",
       "    </tr>\n",
       "  </thead>\n",
       "  <tbody>\n",
       "    <tr>\n",
       "      <th>2016-03-27 00:53:00</th>\n",
       "      <td>68.95</td>\n",
       "      <td>35</td>\n",
       "      <td>61833.90</td>\n",
       "      <td>256.09</td>\n",
       "      <td>Cloned 5thgeneration orchestration</td>\n",
       "      <td>Wrightburgh</td>\n",
       "      <td>0</td>\n",
       "      <td>Tunisia</td>\n",
       "      <td>27/03/2016 0:53</td>\n",
       "      <td>0</td>\n",
       "    </tr>\n",
       "    <tr>\n",
       "      <th>2016-04-04 01:39:00</th>\n",
       "      <td>80.23</td>\n",
       "      <td>31</td>\n",
       "      <td>68441.85</td>\n",
       "      <td>193.77</td>\n",
       "      <td>Monitored national standardization</td>\n",
       "      <td>West Jodi</td>\n",
       "      <td>1</td>\n",
       "      <td>Nauru</td>\n",
       "      <td>04/04/2016 1:39</td>\n",
       "      <td>0</td>\n",
       "    </tr>\n",
       "    <tr>\n",
       "      <th>2016-03-13 20:35:00</th>\n",
       "      <td>69.47</td>\n",
       "      <td>26</td>\n",
       "      <td>59785.94</td>\n",
       "      <td>236.50</td>\n",
       "      <td>Organic bottom-line service-desk</td>\n",
       "      <td>Davidton</td>\n",
       "      <td>0</td>\n",
       "      <td>San Marino</td>\n",
       "      <td>13/03/2016 20:35</td>\n",
       "      <td>0</td>\n",
       "    </tr>\n",
       "    <tr>\n",
       "      <th>2016-01-10 02:31:00</th>\n",
       "      <td>74.15</td>\n",
       "      <td>29</td>\n",
       "      <td>54806.18</td>\n",
       "      <td>245.89</td>\n",
       "      <td>Triple-buffered reciprocal time-frame</td>\n",
       "      <td>West Terrifurt</td>\n",
       "      <td>1</td>\n",
       "      <td>Italy</td>\n",
       "      <td>10/01/2016 2:31</td>\n",
       "      <td>0</td>\n",
       "    </tr>\n",
       "    <tr>\n",
       "      <th>2016-06-03 03:36:00</th>\n",
       "      <td>68.37</td>\n",
       "      <td>35</td>\n",
       "      <td>73889.99</td>\n",
       "      <td>225.58</td>\n",
       "      <td>Robust logistical utilization</td>\n",
       "      <td>South Manuel</td>\n",
       "      <td>0</td>\n",
       "      <td>Iceland</td>\n",
       "      <td>03/06/2016 3:36</td>\n",
       "      <td>0</td>\n",
       "    </tr>\n",
       "  </tbody>\n",
       "</table>\n",
       "</div>"
      ],
      "text/plain": [
       "                     Daily Time Spent on Site  Age  Area Income  \\\n",
       "Timestamp_time                                                    \n",
       "2016-03-27 00:53:00                     68.95   35     61833.90   \n",
       "2016-04-04 01:39:00                     80.23   31     68441.85   \n",
       "2016-03-13 20:35:00                     69.47   26     59785.94   \n",
       "2016-01-10 02:31:00                     74.15   29     54806.18   \n",
       "2016-06-03 03:36:00                     68.37   35     73889.99   \n",
       "\n",
       "                     Daily Internet Usage  \\\n",
       "Timestamp_time                              \n",
       "2016-03-27 00:53:00                256.09   \n",
       "2016-04-04 01:39:00                193.77   \n",
       "2016-03-13 20:35:00                236.50   \n",
       "2016-01-10 02:31:00                245.89   \n",
       "2016-06-03 03:36:00                225.58   \n",
       "\n",
       "                                             Ad Topic Line            City  \\\n",
       "Timestamp_time                                                               \n",
       "2016-03-27 00:53:00     Cloned 5thgeneration orchestration     Wrightburgh   \n",
       "2016-04-04 01:39:00     Monitored national standardization       West Jodi   \n",
       "2016-03-13 20:35:00       Organic bottom-line service-desk        Davidton   \n",
       "2016-01-10 02:31:00  Triple-buffered reciprocal time-frame  West Terrifurt   \n",
       "2016-06-03 03:36:00          Robust logistical utilization    South Manuel   \n",
       "\n",
       "                     Male     Country         Timestamp  Clicked on Ad  \n",
       "Timestamp_time                                                          \n",
       "2016-03-27 00:53:00     0     Tunisia   27/03/2016 0:53              0  \n",
       "2016-04-04 01:39:00     1       Nauru   04/04/2016 1:39              0  \n",
       "2016-03-13 20:35:00     0  San Marino  13/03/2016 20:35              0  \n",
       "2016-01-10 02:31:00     1       Italy   10/01/2016 2:31              0  \n",
       "2016-06-03 03:36:00     0     Iceland   03/06/2016 3:36              0  "
      ]
     },
     "execution_count": 42,
     "metadata": {},
     "output_type": "execute_result"
    }
   ],
   "source": [
    "data_acc_time = data_acc_time.set_index('Timestamp_time', drop=True)\n",
    "data_acc_time.head()"
   ]
  },
  {
   "cell_type": "code",
   "execution_count": 43,
   "metadata": {},
   "outputs": [
    {
     "data": {
      "text/html": [
       "<div>\n",
       "<style scoped>\n",
       "    .dataframe tbody tr th:only-of-type {\n",
       "        vertical-align: middle;\n",
       "    }\n",
       "\n",
       "    .dataframe tbody tr th {\n",
       "        vertical-align: top;\n",
       "    }\n",
       "\n",
       "    .dataframe thead th {\n",
       "        text-align: right;\n",
       "    }\n",
       "</style>\n",
       "<table border=\"1\" class=\"dataframe\">\n",
       "  <thead>\n",
       "    <tr style=\"text-align: right;\">\n",
       "      <th></th>\n",
       "      <th>Daily Time Spent on Site</th>\n",
       "      <th>Age</th>\n",
       "      <th>Area Income</th>\n",
       "      <th>Daily Internet Usage</th>\n",
       "      <th>Male</th>\n",
       "      <th>Clicked on Ad</th>\n",
       "    </tr>\n",
       "    <tr>\n",
       "      <th>Timestamp_time</th>\n",
       "      <th></th>\n",
       "      <th></th>\n",
       "      <th></th>\n",
       "      <th></th>\n",
       "      <th></th>\n",
       "      <th></th>\n",
       "    </tr>\n",
       "  </thead>\n",
       "  <tbody>\n",
       "    <tr>\n",
       "      <th>2016-01-01 02:00:00</th>\n",
       "      <td>80.67</td>\n",
       "      <td>34</td>\n",
       "      <td>58909.36</td>\n",
       "      <td>239.76</td>\n",
       "      <td>0</td>\n",
       "      <td>0</td>\n",
       "    </tr>\n",
       "    <tr>\n",
       "      <th>2016-01-01 03:00:00</th>\n",
       "      <td>0.00</td>\n",
       "      <td>0</td>\n",
       "      <td>0.00</td>\n",
       "      <td>0.00</td>\n",
       "      <td>0</td>\n",
       "      <td>0</td>\n",
       "    </tr>\n",
       "    <tr>\n",
       "      <th>2016-01-01 04:00:00</th>\n",
       "      <td>0.00</td>\n",
       "      <td>0</td>\n",
       "      <td>0.00</td>\n",
       "      <td>0.00</td>\n",
       "      <td>0</td>\n",
       "      <td>0</td>\n",
       "    </tr>\n",
       "    <tr>\n",
       "      <th>2016-01-01 05:00:00</th>\n",
       "      <td>0.00</td>\n",
       "      <td>0</td>\n",
       "      <td>0.00</td>\n",
       "      <td>0.00</td>\n",
       "      <td>0</td>\n",
       "      <td>0</td>\n",
       "    </tr>\n",
       "    <tr>\n",
       "      <th>2016-01-01 06:00:00</th>\n",
       "      <td>0.00</td>\n",
       "      <td>0</td>\n",
       "      <td>0.00</td>\n",
       "      <td>0.00</td>\n",
       "      <td>0</td>\n",
       "      <td>0</td>\n",
       "    </tr>\n",
       "  </tbody>\n",
       "</table>\n",
       "</div>"
      ],
      "text/plain": [
       "                     Daily Time Spent on Site  Age  Area Income  \\\n",
       "Timestamp_time                                                    \n",
       "2016-01-01 02:00:00                     80.67   34     58909.36   \n",
       "2016-01-01 03:00:00                      0.00    0         0.00   \n",
       "2016-01-01 04:00:00                      0.00    0         0.00   \n",
       "2016-01-01 05:00:00                      0.00    0         0.00   \n",
       "2016-01-01 06:00:00                      0.00    0         0.00   \n",
       "\n",
       "                     Daily Internet Usage  Male  Clicked on Ad  \n",
       "Timestamp_time                                                  \n",
       "2016-01-01 02:00:00                239.76     0              0  \n",
       "2016-01-01 03:00:00                  0.00     0              0  \n",
       "2016-01-01 04:00:00                  0.00     0              0  \n",
       "2016-01-01 05:00:00                  0.00     0              0  \n",
       "2016-01-01 06:00:00                  0.00     0              0  "
      ]
     },
     "execution_count": 43,
     "metadata": {},
     "output_type": "execute_result"
    }
   ],
   "source": [
    "hour_data = data_acc_time.resample('H').sum()\n",
    "hour_data.head()"
   ]
  },
  {
   "cell_type": "code",
   "execution_count": 44,
   "metadata": {},
   "outputs": [
    {
     "data": {
      "text/html": [
       "<div>\n",
       "<style scoped>\n",
       "    .dataframe tbody tr th:only-of-type {\n",
       "        vertical-align: middle;\n",
       "    }\n",
       "\n",
       "    .dataframe tbody tr th {\n",
       "        vertical-align: top;\n",
       "    }\n",
       "\n",
       "    .dataframe thead th {\n",
       "        text-align: right;\n",
       "    }\n",
       "</style>\n",
       "<table border=\"1\" class=\"dataframe\">\n",
       "  <thead>\n",
       "    <tr style=\"text-align: right;\">\n",
       "      <th></th>\n",
       "      <th>Daily Time Spent on Site</th>\n",
       "      <th>Age</th>\n",
       "      <th>Area Income</th>\n",
       "      <th>Daily Internet Usage</th>\n",
       "      <th>Ad Topic Line</th>\n",
       "      <th>City</th>\n",
       "      <th>Male</th>\n",
       "      <th>Country</th>\n",
       "      <th>Timestamp</th>\n",
       "      <th>Clicked on Ad</th>\n",
       "      <th>Hour</th>\n",
       "    </tr>\n",
       "    <tr>\n",
       "      <th>Timestamp_time</th>\n",
       "      <th></th>\n",
       "      <th></th>\n",
       "      <th></th>\n",
       "      <th></th>\n",
       "      <th></th>\n",
       "      <th></th>\n",
       "      <th></th>\n",
       "      <th></th>\n",
       "      <th></th>\n",
       "      <th></th>\n",
       "      <th></th>\n",
       "    </tr>\n",
       "  </thead>\n",
       "  <tbody>\n",
       "    <tr>\n",
       "      <th>2016-03-27 00:53:00</th>\n",
       "      <td>68.95</td>\n",
       "      <td>35</td>\n",
       "      <td>61833.90</td>\n",
       "      <td>256.09</td>\n",
       "      <td>Cloned 5thgeneration orchestration</td>\n",
       "      <td>Wrightburgh</td>\n",
       "      <td>0</td>\n",
       "      <td>Tunisia</td>\n",
       "      <td>27/03/2016 0:53</td>\n",
       "      <td>0</td>\n",
       "      <td>0</td>\n",
       "    </tr>\n",
       "    <tr>\n",
       "      <th>2016-04-04 01:39:00</th>\n",
       "      <td>80.23</td>\n",
       "      <td>31</td>\n",
       "      <td>68441.85</td>\n",
       "      <td>193.77</td>\n",
       "      <td>Monitored national standardization</td>\n",
       "      <td>West Jodi</td>\n",
       "      <td>1</td>\n",
       "      <td>Nauru</td>\n",
       "      <td>04/04/2016 1:39</td>\n",
       "      <td>0</td>\n",
       "      <td>1</td>\n",
       "    </tr>\n",
       "    <tr>\n",
       "      <th>2016-03-13 20:35:00</th>\n",
       "      <td>69.47</td>\n",
       "      <td>26</td>\n",
       "      <td>59785.94</td>\n",
       "      <td>236.50</td>\n",
       "      <td>Organic bottom-line service-desk</td>\n",
       "      <td>Davidton</td>\n",
       "      <td>0</td>\n",
       "      <td>San Marino</td>\n",
       "      <td>13/03/2016 20:35</td>\n",
       "      <td>0</td>\n",
       "      <td>20</td>\n",
       "    </tr>\n",
       "    <tr>\n",
       "      <th>2016-01-10 02:31:00</th>\n",
       "      <td>74.15</td>\n",
       "      <td>29</td>\n",
       "      <td>54806.18</td>\n",
       "      <td>245.89</td>\n",
       "      <td>Triple-buffered reciprocal time-frame</td>\n",
       "      <td>West Terrifurt</td>\n",
       "      <td>1</td>\n",
       "      <td>Italy</td>\n",
       "      <td>10/01/2016 2:31</td>\n",
       "      <td>0</td>\n",
       "      <td>2</td>\n",
       "    </tr>\n",
       "    <tr>\n",
       "      <th>2016-06-03 03:36:00</th>\n",
       "      <td>68.37</td>\n",
       "      <td>35</td>\n",
       "      <td>73889.99</td>\n",
       "      <td>225.58</td>\n",
       "      <td>Robust logistical utilization</td>\n",
       "      <td>South Manuel</td>\n",
       "      <td>0</td>\n",
       "      <td>Iceland</td>\n",
       "      <td>03/06/2016 3:36</td>\n",
       "      <td>0</td>\n",
       "      <td>3</td>\n",
       "    </tr>\n",
       "  </tbody>\n",
       "</table>\n",
       "</div>"
      ],
      "text/plain": [
       "                     Daily Time Spent on Site  Age  Area Income  \\\n",
       "Timestamp_time                                                    \n",
       "2016-03-27 00:53:00                     68.95   35     61833.90   \n",
       "2016-04-04 01:39:00                     80.23   31     68441.85   \n",
       "2016-03-13 20:35:00                     69.47   26     59785.94   \n",
       "2016-01-10 02:31:00                     74.15   29     54806.18   \n",
       "2016-06-03 03:36:00                     68.37   35     73889.99   \n",
       "\n",
       "                     Daily Internet Usage  \\\n",
       "Timestamp_time                              \n",
       "2016-03-27 00:53:00                256.09   \n",
       "2016-04-04 01:39:00                193.77   \n",
       "2016-03-13 20:35:00                236.50   \n",
       "2016-01-10 02:31:00                245.89   \n",
       "2016-06-03 03:36:00                225.58   \n",
       "\n",
       "                                             Ad Topic Line            City  \\\n",
       "Timestamp_time                                                               \n",
       "2016-03-27 00:53:00     Cloned 5thgeneration orchestration     Wrightburgh   \n",
       "2016-04-04 01:39:00     Monitored national standardization       West Jodi   \n",
       "2016-03-13 20:35:00       Organic bottom-line service-desk        Davidton   \n",
       "2016-01-10 02:31:00  Triple-buffered reciprocal time-frame  West Terrifurt   \n",
       "2016-06-03 03:36:00          Robust logistical utilization    South Manuel   \n",
       "\n",
       "                     Male     Country         Timestamp  Clicked on Ad  Hour  \n",
       "Timestamp_time                                                                \n",
       "2016-03-27 00:53:00     0     Tunisia   27/03/2016 0:53              0     0  \n",
       "2016-04-04 01:39:00     1       Nauru   04/04/2016 1:39              0     1  \n",
       "2016-03-13 20:35:00     0  San Marino  13/03/2016 20:35              0    20  \n",
       "2016-01-10 02:31:00     1       Italy   10/01/2016 2:31              0     2  \n",
       "2016-06-03 03:36:00     0     Iceland   03/06/2016 3:36              0     3  "
      ]
     },
     "execution_count": 44,
     "metadata": {},
     "output_type": "execute_result"
    }
   ],
   "source": [
    "## extract hour information from the data\n",
    "data_acc_time['Hour'] = data_acc_time.index.hour\n",
    "data_acc_time.head()"
   ]
  },
  {
   "cell_type": "code",
   "execution_count": 45,
   "metadata": {},
   "outputs": [
    {
     "data": {
      "text/plain": [
       "-0.05744331636818698"
      ]
     },
     "execution_count": 45,
     "metadata": {},
     "output_type": "execute_result"
    }
   ],
   "source": [
    "data_acc_time['Hour'].corr(data_acc_time['Clicked on Ad'])"
   ]
  },
  {
   "cell_type": "code",
   "execution_count": 46,
   "metadata": {},
   "outputs": [
    {
     "data": {
      "text/plain": [
       "-0.05744331636818698"
      ]
     },
     "execution_count": 46,
     "metadata": {},
     "output_type": "execute_result"
    }
   ],
   "source": [
    "## create heat map for\n",
    "hour_corr = data_acc_time['Hour'].corr(data_acc_time['Clicked on Ad'])\n",
    "hour_corr"
   ]
  },
  {
   "cell_type": "code",
   "execution_count": 47,
   "metadata": {},
   "outputs": [
    {
     "data": {
      "text/html": [
       "<div>\n",
       "<style scoped>\n",
       "    .dataframe tbody tr th:only-of-type {\n",
       "        vertical-align: middle;\n",
       "    }\n",
       "\n",
       "    .dataframe tbody tr th {\n",
       "        vertical-align: top;\n",
       "    }\n",
       "\n",
       "    .dataframe thead th {\n",
       "        text-align: right;\n",
       "    }\n",
       "</style>\n",
       "<table border=\"1\" class=\"dataframe\">\n",
       "  <thead>\n",
       "    <tr style=\"text-align: right;\">\n",
       "      <th></th>\n",
       "      <th>Clicked on Ad</th>\n",
       "      <th>Hour</th>\n",
       "    </tr>\n",
       "    <tr>\n",
       "      <th>Timestamp_time</th>\n",
       "      <th></th>\n",
       "      <th></th>\n",
       "    </tr>\n",
       "  </thead>\n",
       "  <tbody>\n",
       "    <tr>\n",
       "      <th>2016-03-27 00:53:00</th>\n",
       "      <td>0</td>\n",
       "      <td>0</td>\n",
       "    </tr>\n",
       "    <tr>\n",
       "      <th>2016-04-04 01:39:00</th>\n",
       "      <td>0</td>\n",
       "      <td>1</td>\n",
       "    </tr>\n",
       "    <tr>\n",
       "      <th>2016-03-13 20:35:00</th>\n",
       "      <td>0</td>\n",
       "      <td>20</td>\n",
       "    </tr>\n",
       "    <tr>\n",
       "      <th>2016-01-10 02:31:00</th>\n",
       "      <td>0</td>\n",
       "      <td>2</td>\n",
       "    </tr>\n",
       "    <tr>\n",
       "      <th>2016-06-03 03:36:00</th>\n",
       "      <td>0</td>\n",
       "      <td>3</td>\n",
       "    </tr>\n",
       "  </tbody>\n",
       "</table>\n",
       "</div>"
      ],
      "text/plain": [
       "                     Clicked on Ad  Hour\n",
       "Timestamp_time                          \n",
       "2016-03-27 00:53:00              0     0\n",
       "2016-04-04 01:39:00              0     1\n",
       "2016-03-13 20:35:00              0    20\n",
       "2016-01-10 02:31:00              0     2\n",
       "2016-06-03 03:36:00              0     3"
      ]
     },
     "execution_count": 47,
     "metadata": {},
     "output_type": "execute_result"
    }
   ],
   "source": [
    "hour_corr_data = data_acc_time[['Clicked on Ad', 'Hour']]\n",
    "hour_corr_data.head()"
   ]
  },
  {
   "cell_type": "code",
   "execution_count": 48,
   "metadata": {},
   "outputs": [
    {
     "data": {
      "text/html": [
       "<div>\n",
       "<style scoped>\n",
       "    .dataframe tbody tr th:only-of-type {\n",
       "        vertical-align: middle;\n",
       "    }\n",
       "\n",
       "    .dataframe tbody tr th {\n",
       "        vertical-align: top;\n",
       "    }\n",
       "\n",
       "    .dataframe thead th {\n",
       "        text-align: right;\n",
       "    }\n",
       "</style>\n",
       "<table border=\"1\" class=\"dataframe\">\n",
       "  <thead>\n",
       "    <tr style=\"text-align: right;\">\n",
       "      <th></th>\n",
       "      <th>Clicked on Ad</th>\n",
       "    </tr>\n",
       "    <tr>\n",
       "      <th>Hour</th>\n",
       "      <th></th>\n",
       "    </tr>\n",
       "  </thead>\n",
       "  <tbody>\n",
       "    <tr>\n",
       "      <th>0</th>\n",
       "      <td>25</td>\n",
       "    </tr>\n",
       "    <tr>\n",
       "      <th>1</th>\n",
       "      <td>13</td>\n",
       "    </tr>\n",
       "    <tr>\n",
       "      <th>2</th>\n",
       "      <td>13</td>\n",
       "    </tr>\n",
       "    <tr>\n",
       "      <th>3</th>\n",
       "      <td>19</td>\n",
       "    </tr>\n",
       "    <tr>\n",
       "      <th>4</th>\n",
       "      <td>16</td>\n",
       "    </tr>\n",
       "    <tr>\n",
       "      <th>5</th>\n",
       "      <td>18</td>\n",
       "    </tr>\n",
       "    <tr>\n",
       "      <th>6</th>\n",
       "      <td>22</td>\n",
       "    </tr>\n",
       "    <tr>\n",
       "      <th>7</th>\n",
       "      <td>23</td>\n",
       "    </tr>\n",
       "    <tr>\n",
       "      <th>8</th>\n",
       "      <td>18</td>\n",
       "    </tr>\n",
       "    <tr>\n",
       "      <th>9</th>\n",
       "      <td>25</td>\n",
       "    </tr>\n",
       "    <tr>\n",
       "      <th>10</th>\n",
       "      <td>14</td>\n",
       "    </tr>\n",
       "    <tr>\n",
       "      <th>11</th>\n",
       "      <td>21</td>\n",
       "    </tr>\n",
       "    <tr>\n",
       "      <th>12</th>\n",
       "      <td>13</td>\n",
       "    </tr>\n",
       "    <tr>\n",
       "      <th>13</th>\n",
       "      <td>19</td>\n",
       "    </tr>\n",
       "    <tr>\n",
       "      <th>14</th>\n",
       "      <td>20</td>\n",
       "    </tr>\n",
       "    <tr>\n",
       "      <th>15</th>\n",
       "      <td>18</td>\n",
       "    </tr>\n",
       "    <tr>\n",
       "      <th>16</th>\n",
       "      <td>13</td>\n",
       "    </tr>\n",
       "    <tr>\n",
       "      <th>17</th>\n",
       "      <td>21</td>\n",
       "    </tr>\n",
       "    <tr>\n",
       "      <th>18</th>\n",
       "      <td>23</td>\n",
       "    </tr>\n",
       "    <tr>\n",
       "      <th>19</th>\n",
       "      <td>18</td>\n",
       "    </tr>\n",
       "    <tr>\n",
       "      <th>20</th>\n",
       "      <td>20</td>\n",
       "    </tr>\n",
       "    <tr>\n",
       "      <th>21</th>\n",
       "      <td>16</td>\n",
       "    </tr>\n",
       "    <tr>\n",
       "      <th>22</th>\n",
       "      <td>16</td>\n",
       "    </tr>\n",
       "    <tr>\n",
       "      <th>23</th>\n",
       "      <td>15</td>\n",
       "    </tr>\n",
       "  </tbody>\n",
       "</table>\n",
       "</div>"
      ],
      "text/plain": [
       "      Clicked on Ad\n",
       "Hour               \n",
       "0                25\n",
       "1                13\n",
       "2                13\n",
       "3                19\n",
       "4                16\n",
       "5                18\n",
       "6                22\n",
       "7                23\n",
       "8                18\n",
       "9                25\n",
       "10               14\n",
       "11               21\n",
       "12               13\n",
       "13               19\n",
       "14               20\n",
       "15               18\n",
       "16               13\n",
       "17               21\n",
       "18               23\n",
       "19               18\n",
       "20               20\n",
       "21               16\n",
       "22               16\n",
       "23               15"
      ]
     },
     "execution_count": 48,
     "metadata": {},
     "output_type": "execute_result"
    }
   ],
   "source": [
    "hour_corr_data = hour_corr_data.groupby(['Hour']).sum()\n",
    "hour_corr_data"
   ]
  },
  {
   "cell_type": "code",
   "execution_count": 49,
   "metadata": {},
   "outputs": [
    {
     "data": {
      "image/png": "[encoded data removed]",
      "text/plain": [
       "<Figure size 1080x576 with 1 Axes>"
      ]
     },
     "metadata": {},
     "output_type": "display_data"
    }
   ],
   "source": [
    "plt.figure(figsize=(15, 8))\n",
    "plt.title('Hour-vs-Ad Click percentage', fontdict=font_dict)\n",
    "plt.bar(data=hour_corr_data, x=hour_corr_data.index, height=hour_corr_data['Clicked on Ad'])\n",
    "plt.xlabel('Hour of the day', fontdict=font_dict)\n",
    "plt.ylabel('Number of users', fontdict=font_dict)\n",
    "plt.savefig('Hour-vs-Ad-Click.png')\n",
    "plt.show()"
   ]
  },
  {
   "cell_type": "markdown",
   "metadata": {},
   "source": [
    "## Let's create pairplots regarding all the data points"
   ]
  },
  {
   "cell_type": "code",
   "execution_count": 50,
   "metadata": {},
   "outputs": [
    {
     "data": {
      "image/png": "[encoded data removed]",
      "text/plain": [
       "<Figure size 1080x1080 with 42 Axes>"
      ]
     },
     "metadata": {},
     "output_type": "display_data"
    }
   ],
   "source": [
    "sns.pairplot(data.corr())\n",
    "plt.show()"
   ]
  },
  {
   "cell_type": "raw",
   "metadata": {},
   "source": [
    "From the pairplot, we can simply deduce these facts - \n",
    "1. Probability of clicking on advertisement decrease's if the daily time spent on site increases.\n",
    "2. Age shows a increasing trend with the chances of clicking on the advertisement.\n",
    "3. Area Income also shows decreasing trend. So, as area income increase, chances regarding clicking on advertisement increases.\n",
    "4. Daily Internet usage also decreases the chances of clicking on the advertisement.\n",
    "5. Male and female data shows some positive trend."
   ]
  },
  {
   "cell_type": "markdown",
   "metadata": {},
   "source": [
    "## Data Conclusion"
   ]
  },
  {
   "cell_type": "raw",
   "metadata": {},
   "source": [
    "Based on the dataset given to us, we have decudes some conclusions\n",
    "1. If the user is spending more time daily on the internet, there is a high probability that he/she will not click on the advertisement.\n",
    "2. Age is a good parameter. As the of the person increase more than 40, there is a high chance that he/she will click on the advertisement.\n",
    "3. Area Income does not affect my data.\n",
    "4. If the person is more likely to use internet on daily basis, there is a high chance that he/she will not click on the data.\n",
    "5. City we need to check\n",
    "6. Female are more likely to click on the advertisement than male.\n",
    "7. Timestamp, we might get more advertisement at which hour of the day, need to check."
   ]
  },
  {
   "cell_type": "markdown",
   "metadata": {},
   "source": [
    "## Machine Learning"
   ]
  },
  {
   "cell_type": "code",
   "execution_count": 51,
   "metadata": {},
   "outputs": [],
   "source": [
    "## starting with Logistic Regression\n",
    "from sklearn.linear_model import LogisticRegression"
   ]
  },
  {
   "cell_type": "code",
   "execution_count": 52,
   "metadata": {},
   "outputs": [],
   "source": [
    "logistic_model = LogisticRegression()"
   ]
  },
  {
   "cell_type": "code",
   "execution_count": 53,
   "metadata": {},
   "outputs": [],
   "source": [
    "## split the data into training and test data\n",
    "from sklearn.model_selection import train_test_split"
   ]
  },
  {
   "cell_type": "code",
   "execution_count": 54,
   "metadata": {},
   "outputs": [
    {
     "data": {
      "text/html": [
       "<div>\n",
       "<style scoped>\n",
       "    .dataframe tbody tr th:only-of-type {\n",
       "        vertical-align: middle;\n",
       "    }\n",
       "\n",
       "    .dataframe tbody tr th {\n",
       "        vertical-align: top;\n",
       "    }\n",
       "\n",
       "    .dataframe thead th {\n",
       "        text-align: right;\n",
       "    }\n",
       "</style>\n",
       "<table border=\"1\" class=\"dataframe\">\n",
       "  <thead>\n",
       "    <tr style=\"text-align: right;\">\n",
       "      <th></th>\n",
       "      <th>Daily Time Spent on Site</th>\n",
       "      <th>Age</th>\n",
       "      <th>Area Income</th>\n",
       "      <th>Daily Internet Usage</th>\n",
       "      <th>Male</th>\n",
       "    </tr>\n",
       "  </thead>\n",
       "  <tbody>\n",
       "    <tr>\n",
       "      <th>0</th>\n",
       "      <td>68.95</td>\n",
       "      <td>35</td>\n",
       "      <td>61833.90</td>\n",
       "      <td>256.09</td>\n",
       "      <td>0</td>\n",
       "    </tr>\n",
       "    <tr>\n",
       "      <th>1</th>\n",
       "      <td>80.23</td>\n",
       "      <td>31</td>\n",
       "      <td>68441.85</td>\n",
       "      <td>193.77</td>\n",
       "      <td>1</td>\n",
       "    </tr>\n",
       "    <tr>\n",
       "      <th>2</th>\n",
       "      <td>69.47</td>\n",
       "      <td>26</td>\n",
       "      <td>59785.94</td>\n",
       "      <td>236.50</td>\n",
       "      <td>0</td>\n",
       "    </tr>\n",
       "    <tr>\n",
       "      <th>3</th>\n",
       "      <td>74.15</td>\n",
       "      <td>29</td>\n",
       "      <td>54806.18</td>\n",
       "      <td>245.89</td>\n",
       "      <td>1</td>\n",
       "    </tr>\n",
       "    <tr>\n",
       "      <th>4</th>\n",
       "      <td>68.37</td>\n",
       "      <td>35</td>\n",
       "      <td>73889.99</td>\n",
       "      <td>225.58</td>\n",
       "      <td>0</td>\n",
       "    </tr>\n",
       "  </tbody>\n",
       "</table>\n",
       "</div>"
      ],
      "text/plain": [
       "   Daily Time Spent on Site  Age  Area Income  Daily Internet Usage  Male\n",
       "0                     68.95   35     61833.90                256.09     0\n",
       "1                     80.23   31     68441.85                193.77     1\n",
       "2                     69.47   26     59785.94                236.50     0\n",
       "3                     74.15   29     54806.18                245.89     1\n",
       "4                     68.37   35     73889.99                225.58     0"
      ]
     },
     "execution_count": 54,
     "metadata": {},
     "output_type": "execute_result"
    }
   ],
   "source": [
    "training_data = data[['Daily Time Spent on Site', 'Age', 'Area Income', 'Daily Internet Usage', 'Male']]\n",
    "training_data.head()"
   ]
  },
  {
   "cell_type": "code",
   "execution_count": 55,
   "metadata": {},
   "outputs": [
    {
     "data": {
      "text/plain": [
       "0    0\n",
       "1    0\n",
       "2    0\n",
       "3    0\n",
       "4    0\n",
       "Name: Clicked on Ad, dtype: int64"
      ]
     },
     "execution_count": 55,
     "metadata": {},
     "output_type": "execute_result"
    }
   ],
   "source": [
    "output_data = data['Clicked on Ad']\n",
    "output_data.head()"
   ]
  },
  {
   "cell_type": "code",
   "execution_count": 56,
   "metadata": {},
   "outputs": [],
   "source": [
    "X, x_test, Y, y_test = train_test_split(training_data, output_data, test_size=0.2, random_state=42)"
   ]
  },
  {
   "cell_type": "code",
   "execution_count": 57,
   "metadata": {},
   "outputs": [
    {
     "name": "stderr",
     "output_type": "stream",
     "text": [
      "C:\\Users\\Aakansha\\Anaconda3\\lib\\site-packages\\sklearn\\linear_model\\logistic.py:432: FutureWarning: Default solver will be changed to 'lbfgs' in 0.22. Specify a solver to silence this warning.\n",
      "  FutureWarning)\n"
     ]
    },
    {
     "data": {
      "text/plain": [
       "LogisticRegression(C=1.0, class_weight=None, dual=False, fit_intercept=True,\n",
       "                   intercept_scaling=1, l1_ratio=None, max_iter=100,\n",
       "                   multi_class='warn', n_jobs=None, penalty='l2',\n",
       "                   random_state=None, solver='warn', tol=0.0001, verbose=0,\n",
       "                   warm_start=False)"
      ]
     },
     "execution_count": 57,
     "metadata": {},
     "output_type": "execute_result"
    }
   ],
   "source": [
    "logistic_model.fit(X, Y)"
   ]
  },
  {
   "cell_type": "code",
   "execution_count": 58,
   "metadata": {},
   "outputs": [],
   "source": [
    "prediction = logistic_model.predict(x_test)"
   ]
  },
  {
   "cell_type": "code",
   "execution_count": 59,
   "metadata": {},
   "outputs": [],
   "source": [
    "from sklearn.metrics import accuracy_score, confusion_matrix"
   ]
  },
  {
   "cell_type": "code",
   "execution_count": 60,
   "metadata": {},
   "outputs": [
    {
     "data": {
      "text/plain": [
       "0.8833333333333333"
      ]
     },
     "execution_count": 60,
     "metadata": {},
     "output_type": "execute_result"
    }
   ],
   "source": [
    "accuracy = accuracy_score(y_test, prediction)\n",
    "accuracy"
   ]
  },
  {
   "cell_type": "markdown",
   "metadata": {},
   "source": [
    "## Import the test data and make predictions"
   ]
  },
  {
   "cell_type": "code",
   "execution_count": 61,
   "metadata": {},
   "outputs": [
    {
     "data": {
      "text/html": [
       "<div>\n",
       "<style scoped>\n",
       "    .dataframe tbody tr th:only-of-type {\n",
       "        vertical-align: middle;\n",
       "    }\n",
       "\n",
       "    .dataframe tbody tr th {\n",
       "        vertical-align: top;\n",
       "    }\n",
       "\n",
       "    .dataframe thead th {\n",
       "        text-align: right;\n",
       "    }\n",
       "</style>\n",
       "<table border=\"1\" class=\"dataframe\">\n",
       "  <thead>\n",
       "    <tr style=\"text-align: right;\">\n",
       "      <th></th>\n",
       "      <th>Daily Time Spent on Site</th>\n",
       "      <th>Age</th>\n",
       "      <th>Area Income</th>\n",
       "      <th>Daily Internet Usage</th>\n",
       "      <th>Ad Topic Line</th>\n",
       "      <th>City</th>\n",
       "      <th>Male</th>\n",
       "      <th>Country</th>\n",
       "      <th>Timestamp</th>\n",
       "    </tr>\n",
       "  </thead>\n",
       "  <tbody>\n",
       "    <tr>\n",
       "      <th>0</th>\n",
       "      <td>50.78</td>\n",
       "      <td>51</td>\n",
       "      <td>49957.00</td>\n",
       "      <td>122.04</td>\n",
       "      <td>Vision-oriented asynchronous Internet solution</td>\n",
       "      <td>West David</td>\n",
       "      <td>0</td>\n",
       "      <td>Liberia</td>\n",
       "      <td>11/02/2016 17:02</td>\n",
       "    </tr>\n",
       "    <tr>\n",
       "      <th>1</th>\n",
       "      <td>40.47</td>\n",
       "      <td>38</td>\n",
       "      <td>24078.93</td>\n",
       "      <td>203.90</td>\n",
       "      <td>Sharable 5thgeneration access</td>\n",
       "      <td>Fraziershire</td>\n",
       "      <td>0</td>\n",
       "      <td>Burundi</td>\n",
       "      <td>22/07/2016 7:44</td>\n",
       "    </tr>\n",
       "    <tr>\n",
       "      <th>2</th>\n",
       "      <td>45.62</td>\n",
       "      <td>43</td>\n",
       "      <td>53647.81</td>\n",
       "      <td>121.28</td>\n",
       "      <td>Monitored homogeneous artificial intelligence</td>\n",
       "      <td>Robertfurt</td>\n",
       "      <td>0</td>\n",
       "      <td>Macao</td>\n",
       "      <td>26/06/2016 2:34</td>\n",
       "    </tr>\n",
       "    <tr>\n",
       "      <th>3</th>\n",
       "      <td>84.76</td>\n",
       "      <td>30</td>\n",
       "      <td>61039.13</td>\n",
       "      <td>178.69</td>\n",
       "      <td>Monitored 24/7 moratorium</td>\n",
       "      <td>South Pamela</td>\n",
       "      <td>0</td>\n",
       "      <td>Venezuela</td>\n",
       "      <td>14/05/2016 23:08</td>\n",
       "    </tr>\n",
       "    <tr>\n",
       "      <th>4</th>\n",
       "      <td>80.64</td>\n",
       "      <td>26</td>\n",
       "      <td>46974.15</td>\n",
       "      <td>221.59</td>\n",
       "      <td>Vision-oriented real-time framework</td>\n",
       "      <td>North Laurenview</td>\n",
       "      <td>0</td>\n",
       "      <td>Luxembourg</td>\n",
       "      <td>24/05/2016 10:04</td>\n",
       "    </tr>\n",
       "  </tbody>\n",
       "</table>\n",
       "</div>"
      ],
      "text/plain": [
       "   Daily Time Spent on Site  Age  Area Income  Daily Internet Usage  \\\n",
       "0                     50.78   51     49957.00                122.04   \n",
       "1                     40.47   38     24078.93                203.90   \n",
       "2                     45.62   43     53647.81                121.28   \n",
       "3                     84.76   30     61039.13                178.69   \n",
       "4                     80.64   26     46974.15                221.59   \n",
       "\n",
       "                                    Ad Topic Line              City  Male  \\\n",
       "0  Vision-oriented asynchronous Internet solution        West David     0   \n",
       "1                   Sharable 5thgeneration access      Fraziershire     0   \n",
       "2   Monitored homogeneous artificial intelligence        Robertfurt     0   \n",
       "3                       Monitored 24/7 moratorium      South Pamela     0   \n",
       "4             Vision-oriented real-time framework  North Laurenview     0   \n",
       "\n",
       "      Country         Timestamp  \n",
       "0     Liberia  11/02/2016 17:02  \n",
       "1     Burundi   22/07/2016 7:44  \n",
       "2       Macao   26/06/2016 2:34  \n",
       "3   Venezuela  14/05/2016 23:08  \n",
       "4  Luxembourg  24/05/2016 10:04  "
      ]
     },
     "execution_count": 61,
     "metadata": {},
     "output_type": "execute_result"
    }
   ],
   "source": [
    "test_dataset = pd.read_csv('Test.csv')\n",
    "test_dataset.head()"
   ]
  },
  {
   "cell_type": "code",
   "execution_count": 62,
   "metadata": {},
   "outputs": [
    {
     "data": {
      "text/html": [
       "<div>\n",
       "<style scoped>\n",
       "    .dataframe tbody tr th:only-of-type {\n",
       "        vertical-align: middle;\n",
       "    }\n",
       "\n",
       "    .dataframe tbody tr th {\n",
       "        vertical-align: top;\n",
       "    }\n",
       "\n",
       "    .dataframe thead th {\n",
       "        text-align: right;\n",
       "    }\n",
       "</style>\n",
       "<table border=\"1\" class=\"dataframe\">\n",
       "  <thead>\n",
       "    <tr style=\"text-align: right;\">\n",
       "      <th></th>\n",
       "      <th>Daily Time Spent on Site</th>\n",
       "      <th>Age</th>\n",
       "      <th>Area Income</th>\n",
       "      <th>Daily Internet Usage</th>\n",
       "      <th>Male</th>\n",
       "    </tr>\n",
       "  </thead>\n",
       "  <tbody>\n",
       "    <tr>\n",
       "      <th>0</th>\n",
       "      <td>50.78</td>\n",
       "      <td>51</td>\n",
       "      <td>49957.00</td>\n",
       "      <td>122.04</td>\n",
       "      <td>0</td>\n",
       "    </tr>\n",
       "    <tr>\n",
       "      <th>1</th>\n",
       "      <td>40.47</td>\n",
       "      <td>38</td>\n",
       "      <td>24078.93</td>\n",
       "      <td>203.90</td>\n",
       "      <td>0</td>\n",
       "    </tr>\n",
       "    <tr>\n",
       "      <th>2</th>\n",
       "      <td>45.62</td>\n",
       "      <td>43</td>\n",
       "      <td>53647.81</td>\n",
       "      <td>121.28</td>\n",
       "      <td>0</td>\n",
       "    </tr>\n",
       "    <tr>\n",
       "      <th>3</th>\n",
       "      <td>84.76</td>\n",
       "      <td>30</td>\n",
       "      <td>61039.13</td>\n",
       "      <td>178.69</td>\n",
       "      <td>0</td>\n",
       "    </tr>\n",
       "    <tr>\n",
       "      <th>4</th>\n",
       "      <td>80.64</td>\n",
       "      <td>26</td>\n",
       "      <td>46974.15</td>\n",
       "      <td>221.59</td>\n",
       "      <td>0</td>\n",
       "    </tr>\n",
       "  </tbody>\n",
       "</table>\n",
       "</div>"
      ],
      "text/plain": [
       "   Daily Time Spent on Site  Age  Area Income  Daily Internet Usage  Male\n",
       "0                     50.78   51     49957.00                122.04     0\n",
       "1                     40.47   38     24078.93                203.90     0\n",
       "2                     45.62   43     53647.81                121.28     0\n",
       "3                     84.76   30     61039.13                178.69     0\n",
       "4                     80.64   26     46974.15                221.59     0"
      ]
     },
     "execution_count": 62,
     "metadata": {},
     "output_type": "execute_result"
    }
   ],
   "source": [
    "test_data = test_dataset[['Daily Time Spent on Site', 'Age', 'Area Income', 'Daily Internet Usage', 'Male']]\n",
    "test_data.head()"
   ]
  },
  {
   "cell_type": "code",
   "execution_count": 63,
   "metadata": {},
   "outputs": [],
   "source": [
    "test_prediction = logistic_model.predict(test_data)"
   ]
  },
  {
   "cell_type": "code",
   "execution_count": 64,
   "metadata": {},
   "outputs": [
    {
     "data": {
      "text/plain": [
       "array([1, 1, 1, 0, 0, 0, 1, 0, 1, 0, 1, 1, 1, 0, 1, 1, 1, 0, 0, 0, 0, 1,\n",
       "       1, 1, 1, 1, 0, 0, 0, 1, 0, 1, 1, 1, 0, 0, 1, 1, 1, 0, 1, 1, 1, 1,\n",
       "       1, 0, 0, 1, 0, 1, 1, 0, 0, 1, 0, 1, 1, 0, 0, 0, 1, 0, 0, 0, 0, 1,\n",
       "       1, 0, 1, 0, 1, 1, 1, 0, 1, 1, 1, 1, 0, 0, 1, 1, 1, 0, 0, 1, 0, 1,\n",
       "       1, 0, 1, 1, 1, 0, 0, 0, 1, 1, 0, 0], dtype=int64)"
      ]
     },
     "execution_count": 64,
     "metadata": {},
     "output_type": "execute_result"
    }
   ],
   "source": [
    "test_prediction"
   ]
  },
  {
   "cell_type": "code",
   "execution_count": 65,
   "metadata": {},
   "outputs": [],
   "source": [
    "test_dataset['Clicked on Ad']=pd.DataFrame({'Clicked on Ad':test_prediction})"
   ]
  },
  {
   "cell_type": "code",
   "execution_count": 66,
   "metadata": {},
   "outputs": [
    {
     "data": {
      "text/html": [
       "<div>\n",
       "<style scoped>\n",
       "    .dataframe tbody tr th:only-of-type {\n",
       "        vertical-align: middle;\n",
       "    }\n",
       "\n",
       "    .dataframe tbody tr th {\n",
       "        vertical-align: top;\n",
       "    }\n",
       "\n",
       "    .dataframe thead th {\n",
       "        text-align: right;\n",
       "    }\n",
       "</style>\n",
       "<table border=\"1\" class=\"dataframe\">\n",
       "  <thead>\n",
       "    <tr style=\"text-align: right;\">\n",
       "      <th></th>\n",
       "      <th>Daily Time Spent on Site</th>\n",
       "      <th>Age</th>\n",
       "      <th>Area Income</th>\n",
       "      <th>Daily Internet Usage</th>\n",
       "      <th>Ad Topic Line</th>\n",
       "      <th>City</th>\n",
       "      <th>Male</th>\n",
       "      <th>Country</th>\n",
       "      <th>Timestamp</th>\n",
       "      <th>Clicked on Ad</th>\n",
       "    </tr>\n",
       "  </thead>\n",
       "  <tbody>\n",
       "    <tr>\n",
       "      <th>0</th>\n",
       "      <td>50.78</td>\n",
       "      <td>51</td>\n",
       "      <td>49957.00</td>\n",
       "      <td>122.04</td>\n",
       "      <td>Vision-oriented asynchronous Internet solution</td>\n",
       "      <td>West David</td>\n",
       "      <td>0</td>\n",
       "      <td>Liberia</td>\n",
       "      <td>11/02/2016 17:02</td>\n",
       "      <td>1</td>\n",
       "    </tr>\n",
       "    <tr>\n",
       "      <th>1</th>\n",
       "      <td>40.47</td>\n",
       "      <td>38</td>\n",
       "      <td>24078.93</td>\n",
       "      <td>203.90</td>\n",
       "      <td>Sharable 5thgeneration access</td>\n",
       "      <td>Fraziershire</td>\n",
       "      <td>0</td>\n",
       "      <td>Burundi</td>\n",
       "      <td>22/07/2016 7:44</td>\n",
       "      <td>1</td>\n",
       "    </tr>\n",
       "    <tr>\n",
       "      <th>2</th>\n",
       "      <td>45.62</td>\n",
       "      <td>43</td>\n",
       "      <td>53647.81</td>\n",
       "      <td>121.28</td>\n",
       "      <td>Monitored homogeneous artificial intelligence</td>\n",
       "      <td>Robertfurt</td>\n",
       "      <td>0</td>\n",
       "      <td>Macao</td>\n",
       "      <td>26/06/2016 2:34</td>\n",
       "      <td>1</td>\n",
       "    </tr>\n",
       "    <tr>\n",
       "      <th>3</th>\n",
       "      <td>84.76</td>\n",
       "      <td>30</td>\n",
       "      <td>61039.13</td>\n",
       "      <td>178.69</td>\n",
       "      <td>Monitored 24/7 moratorium</td>\n",
       "      <td>South Pamela</td>\n",
       "      <td>0</td>\n",
       "      <td>Venezuela</td>\n",
       "      <td>14/05/2016 23:08</td>\n",
       "      <td>0</td>\n",
       "    </tr>\n",
       "    <tr>\n",
       "      <th>4</th>\n",
       "      <td>80.64</td>\n",
       "      <td>26</td>\n",
       "      <td>46974.15</td>\n",
       "      <td>221.59</td>\n",
       "      <td>Vision-oriented real-time framework</td>\n",
       "      <td>North Laurenview</td>\n",
       "      <td>0</td>\n",
       "      <td>Luxembourg</td>\n",
       "      <td>24/05/2016 10:04</td>\n",
       "      <td>0</td>\n",
       "    </tr>\n",
       "  </tbody>\n",
       "</table>\n",
       "</div>"
      ],
      "text/plain": [
       "   Daily Time Spent on Site  Age  Area Income  Daily Internet Usage  \\\n",
       "0                     50.78   51     49957.00                122.04   \n",
       "1                     40.47   38     24078.93                203.90   \n",
       "2                     45.62   43     53647.81                121.28   \n",
       "3                     84.76   30     61039.13                178.69   \n",
       "4                     80.64   26     46974.15                221.59   \n",
       "\n",
       "                                    Ad Topic Line              City  Male  \\\n",
       "0  Vision-oriented asynchronous Internet solution        West David     0   \n",
       "1                   Sharable 5thgeneration access      Fraziershire     0   \n",
       "2   Monitored homogeneous artificial intelligence        Robertfurt     0   \n",
       "3                       Monitored 24/7 moratorium      South Pamela     0   \n",
       "4             Vision-oriented real-time framework  North Laurenview     0   \n",
       "\n",
       "      Country         Timestamp  Clicked on Ad  \n",
       "0     Liberia  11/02/2016 17:02              1  \n",
       "1     Burundi   22/07/2016 7:44              1  \n",
       "2       Macao   26/06/2016 2:34              1  \n",
       "3   Venezuela  14/05/2016 23:08              0  \n",
       "4  Luxembourg  24/05/2016 10:04              0  "
      ]
     },
     "execution_count": 66,
     "metadata": {},
     "output_type": "execute_result"
    }
   ],
   "source": [
    "test_dataset.head()"
   ]
  },
  {
   "cell_type": "code",
   "execution_count": 67,
   "metadata": {},
   "outputs": [],
   "source": [
    "test_dataset.to_csv('Result.csv')"
   ]
  },
  {
   "cell_type": "markdown",
   "metadata": {},
   "source": [
    "## Import the result dataset"
   ]
  },
  {
   "cell_type": "code",
   "execution_count": 68,
   "metadata": {},
   "outputs": [],
   "source": [
    "test_result = pd.read_csv('Result.csv')"
   ]
  },
  {
   "cell_type": "code",
   "execution_count": 69,
   "metadata": {},
   "outputs": [
    {
     "data": {
      "text/html": [
       "<div>\n",
       "<style scoped>\n",
       "    .dataframe tbody tr th:only-of-type {\n",
       "        vertical-align: middle;\n",
       "    }\n",
       "\n",
       "    .dataframe tbody tr th {\n",
       "        vertical-align: top;\n",
       "    }\n",
       "\n",
       "    .dataframe thead th {\n",
       "        text-align: right;\n",
       "    }\n",
       "</style>\n",
       "<table border=\"1\" class=\"dataframe\">\n",
       "  <thead>\n",
       "    <tr style=\"text-align: right;\">\n",
       "      <th></th>\n",
       "      <th>Unnamed: 0</th>\n",
       "      <th>Daily Time Spent on Site</th>\n",
       "      <th>Age</th>\n",
       "      <th>Area Income</th>\n",
       "      <th>Daily Internet Usage</th>\n",
       "      <th>Ad Topic Line</th>\n",
       "      <th>City</th>\n",
       "      <th>Male</th>\n",
       "      <th>Country</th>\n",
       "      <th>Timestamp</th>\n",
       "      <th>Clicked on Ad</th>\n",
       "    </tr>\n",
       "  </thead>\n",
       "  <tbody>\n",
       "    <tr>\n",
       "      <th>0</th>\n",
       "      <td>0</td>\n",
       "      <td>50.78</td>\n",
       "      <td>51</td>\n",
       "      <td>49957.00</td>\n",
       "      <td>122.04</td>\n",
       "      <td>Vision-oriented asynchronous Internet solution</td>\n",
       "      <td>West David</td>\n",
       "      <td>0</td>\n",
       "      <td>Liberia</td>\n",
       "      <td>11/02/2016 17:02</td>\n",
       "      <td>1</td>\n",
       "    </tr>\n",
       "    <tr>\n",
       "      <th>1</th>\n",
       "      <td>1</td>\n",
       "      <td>40.47</td>\n",
       "      <td>38</td>\n",
       "      <td>24078.93</td>\n",
       "      <td>203.90</td>\n",
       "      <td>Sharable 5thgeneration access</td>\n",
       "      <td>Fraziershire</td>\n",
       "      <td>0</td>\n",
       "      <td>Burundi</td>\n",
       "      <td>22/07/2016 7:44</td>\n",
       "      <td>1</td>\n",
       "    </tr>\n",
       "    <tr>\n",
       "      <th>2</th>\n",
       "      <td>2</td>\n",
       "      <td>45.62</td>\n",
       "      <td>43</td>\n",
       "      <td>53647.81</td>\n",
       "      <td>121.28</td>\n",
       "      <td>Monitored homogeneous artificial intelligence</td>\n",
       "      <td>Robertfurt</td>\n",
       "      <td>0</td>\n",
       "      <td>Macao</td>\n",
       "      <td>26/06/2016 2:34</td>\n",
       "      <td>1</td>\n",
       "    </tr>\n",
       "    <tr>\n",
       "      <th>3</th>\n",
       "      <td>3</td>\n",
       "      <td>84.76</td>\n",
       "      <td>30</td>\n",
       "      <td>61039.13</td>\n",
       "      <td>178.69</td>\n",
       "      <td>Monitored 24/7 moratorium</td>\n",
       "      <td>South Pamela</td>\n",
       "      <td>0</td>\n",
       "      <td>Venezuela</td>\n",
       "      <td>14/05/2016 23:08</td>\n",
       "      <td>0</td>\n",
       "    </tr>\n",
       "    <tr>\n",
       "      <th>4</th>\n",
       "      <td>4</td>\n",
       "      <td>80.64</td>\n",
       "      <td>26</td>\n",
       "      <td>46974.15</td>\n",
       "      <td>221.59</td>\n",
       "      <td>Vision-oriented real-time framework</td>\n",
       "      <td>North Laurenview</td>\n",
       "      <td>0</td>\n",
       "      <td>Luxembourg</td>\n",
       "      <td>24/05/2016 10:04</td>\n",
       "      <td>0</td>\n",
       "    </tr>\n",
       "  </tbody>\n",
       "</table>\n",
       "</div>"
      ],
      "text/plain": [
       "   Unnamed: 0  Daily Time Spent on Site  Age  Area Income  \\\n",
       "0           0                     50.78   51     49957.00   \n",
       "1           1                     40.47   38     24078.93   \n",
       "2           2                     45.62   43     53647.81   \n",
       "3           3                     84.76   30     61039.13   \n",
       "4           4                     80.64   26     46974.15   \n",
       "\n",
       "   Daily Internet Usage                                   Ad Topic Line  \\\n",
       "0                122.04  Vision-oriented asynchronous Internet solution   \n",
       "1                203.90                   Sharable 5thgeneration access   \n",
       "2                121.28   Monitored homogeneous artificial intelligence   \n",
       "3                178.69                       Monitored 24/7 moratorium   \n",
       "4                221.59             Vision-oriented real-time framework   \n",
       "\n",
       "               City  Male     Country         Timestamp  Clicked on Ad  \n",
       "0        West David     0     Liberia  11/02/2016 17:02              1  \n",
       "1      Fraziershire     0     Burundi   22/07/2016 7:44              1  \n",
       "2        Robertfurt     0       Macao   26/06/2016 2:34              1  \n",
       "3      South Pamela     0   Venezuela  14/05/2016 23:08              0  \n",
       "4  North Laurenview     0  Luxembourg  24/05/2016 10:04              0  "
      ]
     },
     "execution_count": 69,
     "metadata": {},
     "output_type": "execute_result"
    }
   ],
   "source": [
    "test_result.head()"
   ]
  },
  {
   "cell_type": "code",
   "execution_count": 70,
   "metadata": {},
   "outputs": [],
   "source": [
    "test_result.drop('Unnamed: 0',axis=1,inplace=True)"
   ]
  },
  {
   "cell_type": "code",
   "execution_count": 71,
   "metadata": {},
   "outputs": [],
   "source": [
    "test_result = test_result['Clicked on Ad']"
   ]
  },
  {
   "cell_type": "code",
   "execution_count": 72,
   "metadata": {},
   "outputs": [
    {
     "data": {
      "text/plain": [
       "0    1\n",
       "1    1\n",
       "2    1\n",
       "3    0\n",
       "4    0\n",
       "Name: Clicked on Ad, dtype: int64"
      ]
     },
     "execution_count": 72,
     "metadata": {},
     "output_type": "execute_result"
    }
   ],
   "source": [
    "test_result.head()"
   ]
  },
  {
   "cell_type": "code",
   "execution_count": 73,
   "metadata": {},
   "outputs": [
    {
     "data": {
      "text/plain": [
       "1.0"
      ]
     },
     "execution_count": 73,
     "metadata": {},
     "output_type": "execute_result"
    }
   ],
   "source": [
    "test_score = accuracy_score(test_prediction, test_result)\n",
    "test_score"
   ]
  },
  {
   "cell_type": "code",
   "execution_count": null,
   "metadata": {},
   "outputs": [],
   "source": []
  }
 ],
 "metadata": {
  "kernelspec": {
   "display_name": "Python 3",
   "language": "python",
   "name": "python3"
  },
  "language_info": {
   "codemirror_mode": {
    "name": "ipython",
    "version": 3
   },
   "file_extension": ".py",
   "mimetype": "text/x-python",
   "name": "python",
   "nbconvert_exporter": "python",
   "pygments_lexer": "ipython3",
   "version": "3.7.4"
  }
 },
 "nbformat": 4,
 "nbformat_minor": 2
}
